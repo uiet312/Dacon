{
 "cells": [
  {
   "cell_type": "code",
   "execution_count": 1,
   "id": "c78d4058",
   "metadata": {},
   "outputs": [],
   "source": [
    "import pandas as pd\n",
    "import numpy as np\n",
    "from sklearn.preprocessing import LabelEncoder\n",
    "from sklearn.model_selection import KFold\n",
    "from catboost import CatBoostRegressor\n",
    "\n",
    "train = pd.read_csv(\"data/train.csv\")\n",
    "test = pd.read_csv(\"data/test.csv\")"
   ]
  },
  {
   "cell_type": "code",
   "execution_count": 2,
   "id": "f6cdf146",
   "metadata": {},
   "outputs": [],
   "source": [
    "from sklearn.preprocessing import LabelEncoder\n",
    "label = LabelEncoder()\n",
    "for i in train.columns[train.dtypes == \"object\"]:\n",
    "    train[i] = label.fit_transform(list(train[i]))\n",
    "    \n",
    "for i in test.columns[test.dtypes == \"object\"]:\n",
    "    test[i] = label.fit_transform(list(test[i]))"
   ]
  },
  {
   "cell_type": "code",
   "execution_count": 3,
   "id": "a4954bc9",
   "metadata": {},
   "outputs": [
    {
     "name": "stdout",
     "output_type": "stream",
     "text": [
      "<class 'pandas.core.frame.DataFrame'>\n",
      "RangeIndex: 2952 entries, 0 to 2951\n",
      "Data columns (total 13 columns):\n",
      " #   Column                        Non-Null Count  Dtype  \n",
      "---  ------                        --------------  -----  \n",
      " 0   총세대수                          2952 non-null   int64  \n",
      " 1   임대건물구분                        2952 non-null   int64  \n",
      " 2   지역                            2952 non-null   int64  \n",
      " 3   공급유형                          2952 non-null   int64  \n",
      " 4   전용면적                          2952 non-null   float64\n",
      " 5   전용면적별세대수                      2952 non-null   int64  \n",
      " 6   공가수                           2952 non-null   float64\n",
      " 7   자격유형                          2952 non-null   int64  \n",
      " 8   임대보증금                         2952 non-null   int64  \n",
      " 9   임대료                           2952 non-null   int64  \n",
      " 10  도보 10분거리 내 지하철역 수(환승노선 수 반영)  2741 non-null   float64\n",
      " 11  도보 10분거리 내 버스정류장 수            2948 non-null   float64\n",
      " 12  단지내주차면수                       2952 non-null   float64\n",
      "dtypes: float64(5), int64(8)\n",
      "memory usage: 299.9 KB\n"
     ]
    }
   ],
   "source": [
    "train1 = train.drop(['등록차량수','단지코드'], axis=1)\n",
    "test1 = test.drop(['단지코드'], axis=1)\n",
    "train1.info()"
   ]
  },
  {
   "cell_type": "code",
   "execution_count": 5,
   "id": "24f8c6cb",
   "metadata": {},
   "outputs": [
    {
     "ename": "IndentationError",
     "evalue": "unindent does not match any outer indentation level (<tokenize>, line 16)",
     "output_type": "error",
     "traceback": [
      "\u001b[1;36m  File \u001b[1;32m\"<tokenize>\"\u001b[1;36m, line \u001b[1;32m16\u001b[0m\n\u001b[1;33m    eval_set=(x_test, y_test),\u001b[0m\n\u001b[1;37m    ^\u001b[0m\n\u001b[1;31mIndentationError\u001b[0m\u001b[1;31m:\u001b[0m unindent does not match any outer indentation level\n"
     ]
    }
   ],
   "source": [
    "pred = 0\n",
    "best_score = 0\n",
    "\n",
    "k_fold = KFold(n_splits = 5, shuffle = True, random_state = 0)\n",
    "\n",
    "for train_idx, test_idx in k_fold.split(train1):\n",
    "    x_train, x_test = train1loc[train_idx], train1.iloc[test_idx]\n",
    "    y_train, y_test = np.log(train['등록차량수']).iloc[train_idx], np.lot_idx]g(train['등록차량수']).iloc[test_idx]\n",
    "    \n",
    "    cat = CatBoostRegressor(verbose=100,\n",
    "                            eval_metric = 'MAE',\n",
    "                            iterations = 200, \n",
    "                            learning_rate = 0.01)\n",
    "    \n",
    "    cat.fit(x_train, y_train,\n",
    "            eval_set=(x_test, y_test),\n",
    "            early_stopping_rounds=100,\n",
    "            cat_features = [1,2,3,7])\n",
    "    \n",
    "    pred += cat.predict(test1) / 5\n",
    "    \n",
    "    best_score += cat.best_score_[\"validation\"][\"MAE\"] / 5"
   ]
  },
  {
   "cell_type": "code",
   "execution_count": 7,
   "id": "2faa5f09",
   "metadata": {},
   "outputs": [
    {
     "data": {
      "text/plain": [
       "0.26053827832966864"
      ]
     },
     "execution_count": 7,
     "metadata": {},
     "output_type": "execute_result"
    }
   ],
   "source": [
    "best_score"
   ]
  },
  {
   "cell_type": "code",
   "execution_count": 8,
   "id": "547ffe69",
   "metadata": {},
   "outputs": [
    {
     "data": {
      "text/plain": [
       "array([556.7540551 , 654.94484083, 563.93851908, ..., 289.64933233,\n",
       "       293.45847104, 294.80962846])"
      ]
     },
     "execution_count": 8,
     "metadata": {},
     "output_type": "execute_result"
    }
   ],
   "source": [
    "np.exp(pred)"
   ]
  },
  {
   "cell_type": "code",
   "execution_count": null,
   "id": "f3df54ae",
   "metadata": {},
   "outputs": [],
   "source": []
  }
 ],
 "metadata": {
  "kernelspec": {
   "display_name": "Python 3",
   "language": "python",
   "name": "python3"
  },
  "language_info": {
   "codemirror_mode": {
    "name": "ipython",
    "version": 3
   },
   "file_extension": ".py",
   "mimetype": "text/x-python",
   "name": "python",
   "nbconvert_exporter": "python",
   "pygments_lexer": "ipython3",
   "version": "3.8.8"
  }
 },
 "nbformat": 4,
 "nbformat_minor": 5
}

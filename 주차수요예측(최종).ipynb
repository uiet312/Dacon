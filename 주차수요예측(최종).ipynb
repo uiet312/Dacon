{
 "cells": [
  {
   "cell_type": "code",
   "execution_count": 1,
   "id": "1fb9d7bd",
   "metadata": {},
   "outputs": [],
   "source": [
    "import pandas as pd\n",
    "import numpy as np"
   ]
  },
  {
   "cell_type": "markdown",
   "id": "20ec0eb8",
   "metadata": {},
   "source": [
    "# 데이터 불러오기"
   ]
  },
  {
   "cell_type": "code",
   "execution_count": 2,
   "id": "b9fe2f84",
   "metadata": {},
   "outputs": [],
   "source": [
    "train = pd.read_csv('data/train.csv')\n",
    "test = pd.read_csv('data/test.csv')\n",
    "submission = pd.read_csv('data/sample_submission.csv')"
   ]
  },
  {
   "cell_type": "markdown",
   "id": "4ef63080",
   "metadata": {},
   "source": [
    "# 컬럼명 바꾸기"
   ]
  },
  {
   "cell_type": "code",
   "execution_count": 3,
   "id": "132a465b",
   "metadata": {},
   "outputs": [],
   "source": [
    "train = train.rename(columns={'도보 10분거리 내 지하철역 수(환승노선 수 반영)':'지하철',\n",
    "                     '도보 10분거리 내 버스정류장 수':'버스'})\n",
    "\n",
    "test = test.rename(columns={'도보 10분거리 내 지하철역 수(환승노선 수 반영)':'지하철',\n",
    "                     '도보 10분거리 내 버스정류장 수':'버스'})"
   ]
  },
  {
   "cell_type": "code",
   "execution_count": 13,
   "id": "9b7be063",
   "metadata": {},
   "outputs": [
    {
     "data": {
      "text/plain": [
       "경기도        621\n",
       "경상남도       369\n",
       "부산광역시      328\n",
       "대전광역시      266\n",
       "강원도        187\n",
       "충청북도       163\n",
       "충청남도       158\n",
       "전라남도       151\n",
       "광주광역시      141\n",
       "경상북도       119\n",
       "전라북도       109\n",
       "대구광역시      102\n",
       "제주특별자치도     91\n",
       "서울특별시       64\n",
       "세종특별자치시     47\n",
       "울산광역시       36\n",
       "Name: 지역, dtype: int64"
      ]
     },
     "execution_count": 13,
     "metadata": {},
     "output_type": "execute_result"
    }
   ],
   "source": [
    "train['지역'].value_counts()"
   ]
  },
  {
   "cell_type": "code",
   "execution_count": 12,
   "id": "b58ecac1",
   "metadata": {},
   "outputs": [
    {
     "data": {
      "text/plain": [
       "아파트    2383\n",
       "상가      569\n",
       "Name: 임대건물구분, dtype: int64"
      ]
     },
     "execution_count": 12,
     "metadata": {},
     "output_type": "execute_result"
    }
   ],
   "source": [
    "train['임대건물구분'].value_counts()"
   ]
  },
  {
   "cell_type": "markdown",
   "id": "74c51172",
   "metadata": {},
   "source": [
    "# 결측치 처리"
   ]
  },
  {
   "cell_type": "code",
   "execution_count": 6,
   "id": "d52f5329",
   "metadata": {},
   "outputs": [
    {
     "name": "stdout",
     "output_type": "stream",
     "text": [
      "-------- train.csv --------\n",
      "단지코드          0\n",
      "총세대수          0\n",
      "임대건물구분        0\n",
      "지역            0\n",
      "공급유형          0\n",
      "전용면적          0\n",
      "전용면적별세대수      0\n",
      "공가수           0\n",
      "자격유형          0\n",
      "임대보증금       569\n",
      "임대료         569\n",
      "지하철         211\n",
      "버스            4\n",
      "단지내주차면수       0\n",
      "등록차량수         0\n",
      "dtype: int64\n",
      "-------- test.csv --------\n",
      "단지코드          0\n",
      "총세대수          0\n",
      "임대건물구분        0\n",
      "지역            0\n",
      "공급유형          0\n",
      "전용면적          0\n",
      "전용면적별세대수      0\n",
      "공가수           0\n",
      "자격유형          2\n",
      "임대보증금       180\n",
      "임대료         180\n",
      "지하철          42\n",
      "버스            0\n",
      "단지내주차면수       0\n",
      "dtype: int64\n"
     ]
    }
   ],
   "source": [
    "print(\"-------- train.csv --------\")\n",
    "print(train.isnull().sum())\n",
    "print(\"-------- test.csv --------\")\n",
    "print(test.isnull().sum())"
   ]
  },
  {
   "cell_type": "code",
   "execution_count": 7,
   "id": "fd8c741e",
   "metadata": {},
   "outputs": [],
   "source": [
    "# train 데이터\n",
    "train['임대보증금'] = train['임대보증금'].fillna(0)\n",
    "train['임대료'] = train['임대료'].fillna(0)\n",
    "train['지하철'] = train['지하철'].fillna(0)\n",
    "train['버스'] = train['버스'].fillna(0)\n",
    "\n",
    "# test 데이터\n",
    "test['임대보증금'] = test['임대보증금'].fillna(0)\n",
    "test['임대료'] = test['임대료'].fillna(0)\n",
    "test['지하철'] = test['지하철'].fillna(0)\n",
    "\n",
    "test.loc[test.단지코드.isin(['C2411']) & test.자격유형.isnull(), '자격유형'] = 'A'\n",
    "test.loc[test.단지코드.isin(['C2253']) & test.자격유형.isnull(), '자격유형'] = 'C'"
   ]
  },
  {
   "cell_type": "code",
   "execution_count": 8,
   "id": "b9ebc47a",
   "metadata": {},
   "outputs": [
    {
     "name": "stdout",
     "output_type": "stream",
     "text": [
      "-------- train.csv --------\n",
      "단지코드        0\n",
      "총세대수        0\n",
      "임대건물구분      0\n",
      "지역          0\n",
      "공급유형        0\n",
      "전용면적        0\n",
      "전용면적별세대수    0\n",
      "공가수         0\n",
      "자격유형        0\n",
      "임대보증금       0\n",
      "임대료         0\n",
      "지하철         0\n",
      "버스          0\n",
      "단지내주차면수     0\n",
      "등록차량수       0\n",
      "dtype: int64\n",
      "-------- test.csv --------\n",
      "단지코드        0\n",
      "총세대수        0\n",
      "임대건물구분      0\n",
      "지역          0\n",
      "공급유형        0\n",
      "전용면적        0\n",
      "전용면적별세대수    0\n",
      "공가수         0\n",
      "자격유형        0\n",
      "임대보증금       0\n",
      "임대료         0\n",
      "지하철         0\n",
      "버스          0\n",
      "단지내주차면수     0\n",
      "dtype: int64\n"
     ]
    }
   ],
   "source": [
    "print(\"-------- train.csv --------\")\n",
    "print(train.isnull().sum())\n",
    "print(\"-------- test.csv --------\")\n",
    "print(test.isnull().sum())"
   ]
  },
  {
   "cell_type": "markdown",
   "id": "91c56e44",
   "metadata": {},
   "source": [
    "# '-' 데이터 처리"
   ]
  },
  {
   "cell_type": "code",
   "execution_count": 9,
   "id": "104111b0",
   "metadata": {},
   "outputs": [],
   "source": [
    "# 임대료, 임대보증금 데이터에 - 값이 있어서 이를 0으로 변환\n",
    "train.loc[train.임대보증금=='-', '임대보증금'] = np.nan\n",
    "train.loc[train.임대료=='-', '임대료'] = np.nan\n",
    "train['임대보증금'] = train['임대보증금'].astype(float)\n",
    "train['임대료'] = train['임대료'].astype(float)\n",
    "train['임대보증금'] = train['임대보증금'].fillna(0)\n",
    "train['임대료'] = train['임대료'].fillna(0)\n",
    "\n",
    "test.loc[test.임대보증금=='-', '임대보증금'] = np.nan\n",
    "test.loc[test.임대료=='-', '임대료'] = np.nan\n",
    "test['임대보증금'] = test['임대보증금'].fillna(0)\n",
    "test['임대료'] = test['임대료'].fillna(0)\n",
    "test['임대보증금'] = test['임대보증금'].astype(float)\n",
    "test['임대료'] = test['임대료'].astype(float)"
   ]
  },
  {
   "cell_type": "markdown",
   "id": "b8f25c41",
   "metadata": {},
   "source": [
    "# 지하철 Y or N로 변경"
   ]
  },
  {
   "cell_type": "code",
   "execution_count": 10,
   "id": "6e507ba5",
   "metadata": {},
   "outputs": [],
   "source": [
    "train['지하철'] = np.where(train['지하철'] == 0, 0, 1)\n",
    "test['지하철'] = np.where(test['지하철'] == 0, 0, 1)"
   ]
  },
  {
   "cell_type": "markdown",
   "id": "8a53769b",
   "metadata": {},
   "source": [
    "# 임대건물구분 컬럼 처리"
   ]
  },
  {
   "cell_type": "code",
   "execution_count": 11,
   "id": "68ed4522",
   "metadata": {},
   "outputs": [],
   "source": [
    "# 임대건물구분에서 7개의 아파트는 상가로 예상이됨 이를 처리 함.\n",
    "# 임대건물구분이 상가인 경우는 전용면적별세대수도 1이므로 이를 처리 함.\n",
    "\n",
    "idx = train[(train['임대건물구분']=='아파트') & (train['자격유형']=='D')]['전용면적별세대수'].index\n",
    "train.loc[idx, '전용면적별세대수'] = 1\n",
    "train.loc[idx, '임대건물구분'] = '상가'"
   ]
  },
  {
   "cell_type": "markdown",
   "id": "8423be0e",
   "metadata": {},
   "source": [
    "# 지역 데이터를 숫자로 매핑"
   ]
  },
  {
   "cell_type": "code",
   "execution_count": 19,
   "id": "ae9c2154",
   "metadata": {},
   "outputs": [],
   "source": [
    "local_map = {}\n",
    "for i, loc in enumerate(train['지역'].unique()):\n",
    "    local_map[loc] = i\n",
    "    \n",
    "train['지역'] = train['지역'].map(local_map)\n",
    "\n",
    "local_map = {}\n",
    "for i, loc in enumerate(test['지역'].unique()):\n",
    "    local_map[loc] = i\n",
    "    \n",
    "test['지역'] = test['지역'].map(local_map)"
   ]
  },
  {
   "cell_type": "markdown",
   "id": "d32cdf89",
   "metadata": {},
   "source": [
    "# 전용면적을 상/하한 적용"
   ]
  },
  {
   "cell_type": "code",
   "execution_count": 11,
   "id": "cd32d741",
   "metadata": {},
   "outputs": [],
   "source": [
    "# 전용면적을 5의 배수로 변경 후 상/하한 적용\n",
    "# 하한 값 15, 상한 값 100을 적용\n",
    "\n",
    "train['전용면적'] = np.round(train['전용면적'], 0)\n",
    "train['전용면적'] = train['전용면적']//5*5\n",
    "\n",
    "idx = train[train['전용면적']>100].index\n",
    "train.loc[idx, '전용면적'] = 100\n",
    "\n",
    "idx = train[train['전용면적']<15].index\n",
    "train.loc[idx, '전용면적'] = 15\n",
    "\n",
    "test['전용면적'] = np.round(test['전용면적'], 0)\n",
    "test['전용면적'] = test['전용면적']//5*5\n",
    "\n",
    "idx = test[test['전용면적']>100].index\n",
    "test.loc[idx, '전용면적'] = 100\n",
    "\n",
    "idx = test[test['전용면적']<15].index\n",
    "test.loc[idx, '전용면적'] = 15"
   ]
  },
  {
   "cell_type": "markdown",
   "id": "013ec571",
   "metadata": {},
   "source": [
    "# 학습 데이터 생성"
   ]
  },
  {
   "cell_type": "code",
   "execution_count": 12,
   "id": "f10a01e2",
   "metadata": {},
   "outputs": [
    {
     "name": "stdout",
     "output_type": "stream",
     "text": [
      "train 데이터: (2952, 8)\n",
      "test 데이터: (1022, 7)\n"
     ]
    }
   ],
   "source": [
    "train_data = train[['총세대수','전용면적','전용면적별세대수','공가수','임대보증금','임대료','단지내주차면수','등록차량수']]\n",
    "test_data = test[['총세대수','전용면적','전용면적별세대수','공가수','임대보증금','임대료','단지내주차면수']]\n",
    "print(\"train 데이터:\",train_data.shape)\n",
    "print(\"test 데이터:\",test_data.shape)"
   ]
  },
  {
   "cell_type": "code",
   "execution_count": 13,
   "id": "1e73b5dd",
   "metadata": {},
   "outputs": [
    {
     "name": "stdout",
     "output_type": "stream",
     "text": [
      "x_train 데이터: (2952, 7)\n",
      "y_train 데이터: (2952,)\n",
      "x_train 데이터: (1022, 7)\n"
     ]
    }
   ],
   "source": [
    "# 데이터 target 설정\n",
    "\n",
    "x_train = train_data.iloc[:,:7]\n",
    "y_train = train_data.iloc[:,-1]\n",
    "x_test = test_data\n",
    "print(\"x_train 데이터:\",x_train.shape)\n",
    "print(\"y_train 데이터:\",y_train.shape)\n",
    "print(\"x_train 데이터:\",x_test.shape)"
   ]
  },
  {
   "cell_type": "markdown",
   "id": "ac5230e1",
   "metadata": {},
   "source": [
    "# 모델링"
   ]
  },
  {
   "cell_type": "code",
   "execution_count": 14,
   "id": "f0414360",
   "metadata": {},
   "outputs": [],
   "source": [
    "from sklearn.ensemble import RandomForestRegressor\n",
    "\n",
    "forest = RandomForestRegressor(n_jobs=-1, random_state=42)\n",
    "\n",
    "forest.fit(x_train, y_train)\n",
    "\n",
    "pred = forest.predict(x_test)"
   ]
  },
  {
   "cell_type": "code",
   "execution_count": 15,
   "id": "b9ba50c3",
   "metadata": {},
   "outputs": [],
   "source": [
    "import xgboost\n",
    "\n",
    "xgb = xgboost.XGBRegressor()\n",
    "\n",
    "xgb.fit(x_train, y_train)\n",
    "\n",
    "pred = xgb.predict(x_test)"
   ]
  },
  {
   "cell_type": "markdown",
   "id": "da1380d7",
   "metadata": {},
   "source": [
    "# 예측 데이터셋 생성"
   ]
  },
  {
   "cell_type": "code",
   "execution_count": 16,
   "id": "55e3a2c8",
   "metadata": {},
   "outputs": [],
   "source": [
    "df = []\n",
    "df = pd.DataFrame(df)\n",
    "df['code'] = test['단지코드']\n",
    "df['num'] = pred\n",
    "sub = df.groupby(['code'],sort=False,as_index=False).mean()"
   ]
  },
  {
   "cell_type": "code",
   "execution_count": 17,
   "id": "38cb61dd",
   "metadata": {},
   "outputs": [
    {
     "data": {
      "text/html": [
       "<div>\n",
       "<style scoped>\n",
       "    .dataframe tbody tr th:only-of-type {\n",
       "        vertical-align: middle;\n",
       "    }\n",
       "\n",
       "    .dataframe tbody tr th {\n",
       "        vertical-align: top;\n",
       "    }\n",
       "\n",
       "    .dataframe thead th {\n",
       "        text-align: right;\n",
       "    }\n",
       "</style>\n",
       "<table border=\"1\" class=\"dataframe\">\n",
       "  <thead>\n",
       "    <tr style=\"text-align: right;\">\n",
       "      <th></th>\n",
       "      <th>code</th>\n",
       "      <th>num</th>\n",
       "    </tr>\n",
       "  </thead>\n",
       "  <tbody>\n",
       "    <tr>\n",
       "      <th>0</th>\n",
       "      <td>C1072</td>\n",
       "      <td>649.207397</td>\n",
       "    </tr>\n",
       "    <tr>\n",
       "      <th>1</th>\n",
       "      <td>C1128</td>\n",
       "      <td>1191.849976</td>\n",
       "    </tr>\n",
       "    <tr>\n",
       "      <th>2</th>\n",
       "      <td>C1456</td>\n",
       "      <td>638.613586</td>\n",
       "    </tr>\n",
       "    <tr>\n",
       "      <th>3</th>\n",
       "      <td>C1840</td>\n",
       "      <td>467.848450</td>\n",
       "    </tr>\n",
       "    <tr>\n",
       "      <th>4</th>\n",
       "      <td>C1332</td>\n",
       "      <td>1009.499634</td>\n",
       "    </tr>\n",
       "  </tbody>\n",
       "</table>\n",
       "</div>"
      ],
      "text/plain": [
       "    code          num\n",
       "0  C1072   649.207397\n",
       "1  C1128  1191.849976\n",
       "2  C1456   638.613586\n",
       "3  C1840   467.848450\n",
       "4  C1332  1009.499634"
      ]
     },
     "execution_count": 17,
     "metadata": {},
     "output_type": "execute_result"
    }
   ],
   "source": [
    "sub.to_csv('xgb.csv', index=False)\n",
    "sub.head()"
   ]
  },
  {
   "cell_type": "markdown",
   "id": "29d69b70",
   "metadata": {},
   "source": [
    "# 모델 평가"
   ]
  },
  {
   "cell_type": "code",
   "execution_count": 18,
   "id": "1c002ba6",
   "metadata": {},
   "outputs": [
    {
     "name": "stdout",
     "output_type": "stream",
     "text": [
      "mae : 28.853726287262873\n",
      "r2_score : 0.9783652648951725\n"
     ]
    }
   ],
   "source": [
    "from sklearn.model_selection import train_test_split\n",
    "\n",
    "x = train_data.iloc[:,:7]\n",
    "y = train_data.iloc[:,-1]\n",
    "\n",
    "x_train, x_test, y_train, y_test = train_test_split(x,y, random_state=0)\n",
    "\n",
    "from sklearn.ensemble import RandomForestRegressor\n",
    "\n",
    "forest = RandomForestRegressor(random_state=0)\n",
    "\n",
    "forest.fit(x_train, y_train)\n",
    "\n",
    "pred = forest.predict(x_test)\n",
    "\n",
    "from sklearn.metrics import mean_absolute_error\n",
    "print(\"mae :\",mean_absolute_error(y_test, pred))\n",
    "\n",
    "from sklearn.metrics import r2_score\n",
    "print(\"r2_score :\",r2_score(y_test, pred))"
   ]
  },
  {
   "cell_type": "code",
   "execution_count": 19,
   "id": "2e01ed76",
   "metadata": {},
   "outputs": [
    {
     "name": "stdout",
     "output_type": "stream",
     "text": [
      "mae : 29.864864125807433\n",
      "r2_score : 0.9804879974711456\n"
     ]
    }
   ],
   "source": [
    "from sklearn.model_selection import train_test_split\n",
    "\n",
    "x = train_data.iloc[:,:7]\n",
    "y = train_data.iloc[:,-1]\n",
    "\n",
    "x_train, x_test, y_train, y_test = train_test_split(x,y, random_state=0)\n",
    "\n",
    "import xgboost\n",
    "\n",
    "xgb = xgboost.XGBRegressor(random_state=0)\n",
    "\n",
    "xgb.fit(x_train, y_train)\n",
    "\n",
    "pred = xgb.predict(x_test)\n",
    "\n",
    "from sklearn.metrics import mean_absolute_error\n",
    "print(\"mae :\",mean_absolute_error(y_test, pred))\n",
    "\n",
    "from sklearn.metrics import r2_score\n",
    "print(\"r2_score :\",r2_score(y_test, pred))"
   ]
  }
 ],
 "metadata": {
  "kernelspec": {
   "display_name": "Python 3",
   "language": "python",
   "name": "python3"
  },
  "language_info": {
   "codemirror_mode": {
    "name": "ipython",
    "version": 3
   },
   "file_extension": ".py",
   "mimetype": "text/x-python",
   "name": "python",
   "nbconvert_exporter": "python",
   "pygments_lexer": "ipython3",
   "version": "3.8.8"
  }
 },
 "nbformat": 4,
 "nbformat_minor": 5
}

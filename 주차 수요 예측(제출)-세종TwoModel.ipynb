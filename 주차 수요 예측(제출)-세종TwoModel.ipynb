{
 "cells": [
  {
   "cell_type": "code",
   "execution_count": 156,
   "id": "4bccbbf7",
   "metadata": {
    "ExecuteTime": {
     "end_time": "2021-07-16T13:42:45.534027Z",
     "start_time": "2021-07-16T13:42:45.518069Z"
    },
    "executionInfo": {
     "elapsed": 384,
     "status": "ok",
     "timestamp": 1626418401860,
     "user": {
      "displayName": "박재완",
      "photoUrl": "",
      "userId": "18327523315282194311"
     },
     "user_tz": -540
    },
    "id": "4bccbbf7"
   },
   "outputs": [],
   "source": [
    "%matplotlib inline"
   ]
  },
  {
   "cell_type": "code",
   "execution_count": 157,
   "id": "fde9e222",
   "metadata": {
    "ExecuteTime": {
     "end_time": "2021-07-16T13:42:45.549983Z",
     "start_time": "2021-07-16T13:42:45.535023Z"
    },
    "executionInfo": {
     "elapsed": 1506,
     "status": "ok",
     "timestamp": 1626418405988,
     "user": {
      "displayName": "박재완",
      "photoUrl": "",
      "userId": "18327523315282194311"
     },
     "user_tz": -540
    },
    "id": "fde9e222"
   },
   "outputs": [],
   "source": [
    "import pandas as pd\n",
    "import numpy as np\n",
    "from sklearn.ensemble import RandomForestRegressor\n",
    "from tqdm import tqdm\n",
    "import matplotlib.pyplot as plt\n",
    "pd.options.display.float_format = '{:.6f}'.format"
   ]
  },
  {
   "cell_type": "markdown",
   "id": "8371ff54",
   "metadata": {
    "id": "8371ff54"
   },
   "source": [
    "# 데이터 불러오기"
   ]
  },
  {
   "cell_type": "code",
   "execution_count": 158,
   "id": "8a9a38e6",
   "metadata": {
    "ExecuteTime": {
     "end_time": "2021-07-16T13:42:45.581898Z",
     "start_time": "2021-07-16T13:42:45.550981Z"
    },
    "executionInfo": {
     "elapsed": 2675,
     "status": "ok",
     "timestamp": 1626418508349,
     "user": {
      "displayName": "박재완",
      "photoUrl": "",
      "userId": "18327523315282194311"
     },
     "user_tz": -540
    },
    "id": "8a9a38e6"
   },
   "outputs": [],
   "source": [
    "train = pd.read_csv('./Dataset/train.csv')\n",
    "test = pd.read_csv('./Dataset/test.csv')\n",
    "car_2020 = pd.read_csv('./Dataset/car_2020.csv',encoding='cp949')\n",
    "submission = pd.read_csv('./Dataset/sample_submission.csv')"
   ]
  },
  {
   "cell_type": "code",
   "execution_count": 159,
   "id": "f1e37a5f",
   "metadata": {
    "ExecuteTime": {
     "end_time": "2021-07-16T13:42:45.597855Z",
     "start_time": "2021-07-16T13:42:45.582896Z"
    },
    "colab": {
     "base_uri": "https://localhost:8080/",
     "height": 304
    },
    "executionInfo": {
     "elapsed": 5,
     "status": "ok",
     "timestamp": 1626418558381,
     "user": {
      "displayName": "박재완",
      "photoUrl": "",
      "userId": "18327523315282194311"
     },
     "user_tz": -540
    },
    "id": "f1e37a5f",
    "outputId": "6264b7c4-7c8e-4ae1-8dc3-a04baa1af3e8"
   },
   "outputs": [
    {
     "data": {
      "text/plain": [
       "단지코드                              0\n",
       "총세대수                              0\n",
       "임대건물구분                            0\n",
       "지역                                0\n",
       "공급유형                              0\n",
       "전용면적                              0\n",
       "전용면적별세대수                          0\n",
       "공가수                               0\n",
       "자격유형                              2\n",
       "임대보증금                           180\n",
       "임대료                             180\n",
       "도보 10분거리 내 지하철역 수(환승노선 수 반영)     42\n",
       "도보 10분거리 내 버스정류장 수                0\n",
       "단지내주차면수                           0\n",
       "dtype: int64"
      ]
     },
     "execution_count": 159,
     "metadata": {},
     "output_type": "execute_result"
    }
   ],
   "source": [
    "test.isnull().sum()"
   ]
  },
  {
   "cell_type": "markdown",
   "id": "e86a3249",
   "metadata": {
    "id": "e86a3249"
   },
   "source": [
    "car_2020 = car_2020.drop(['시군구(1)'], axis=1)\n",
    "car_2020.columns = ['지역','월','항목','분류','자동차수']\n",
    "car_2020['월'] = pd.to_datetime(car_2020['월']).dt.month\n",
    "car_2020.head()"
   ]
  },
  {
   "cell_type": "code",
   "execution_count": 160,
   "id": "4fefe6c1",
   "metadata": {
    "ExecuteTime": {
     "end_time": "2021-07-16T13:42:45.613820Z",
     "start_time": "2021-07-16T13:42:45.598858Z"
    },
    "colab": {
     "base_uri": "https://localhost:8080/"
    },
    "executionInfo": {
     "elapsed": 389,
     "status": "ok",
     "timestamp": 1626418565007,
     "user": {
      "displayName": "박재완",
      "photoUrl": "",
      "userId": "18327523315282194311"
     },
     "user_tz": -540
    },
    "id": "4fefe6c1",
    "outputId": "068c43ca-50b8-4e1a-e11c-f9fe9a2933cd"
   },
   "outputs": [
    {
     "data": {
      "text/plain": [
       "단지코드                              0\n",
       "총세대수                              0\n",
       "임대건물구분                            0\n",
       "지역                                0\n",
       "공급유형                              0\n",
       "전용면적                              0\n",
       "전용면적별세대수                          0\n",
       "공가수                               0\n",
       "자격유형                              0\n",
       "임대보증금                           569\n",
       "임대료                             569\n",
       "도보 10분거리 내 지하철역 수(환승노선 수 반영)    211\n",
       "도보 10분거리 내 버스정류장 수                4\n",
       "단지내주차면수                           0\n",
       "등록차량수                             0\n",
       "dtype: int64"
      ]
     },
     "execution_count": 160,
     "metadata": {},
     "output_type": "execute_result"
    }
   ],
   "source": [
    "train.isnull().sum()"
   ]
  },
  {
   "cell_type": "markdown",
   "id": "ffbee22f",
   "metadata": {
    "id": "ffbee22f"
   },
   "source": [
    "# 컬렴명 바꿔주기"
   ]
  },
  {
   "cell_type": "code",
   "execution_count": 161,
   "id": "8a1e4b55",
   "metadata": {
    "ExecuteTime": {
     "end_time": "2021-07-16T13:42:45.629770Z",
     "start_time": "2021-07-16T13:42:45.614810Z"
    },
    "executionInfo": {
     "elapsed": 384,
     "status": "ok",
     "timestamp": 1626418569160,
     "user": {
      "displayName": "박재완",
      "photoUrl": "",
      "userId": "18327523315282194311"
     },
     "user_tz": -540
    },
    "id": "8a1e4b55"
   },
   "outputs": [],
   "source": [
    "train.columns = [\n",
    "    '단지코드', '총세대수', '임대건물구분', '지역', '공급유형', '전용면적', '전용면적별세대수', '공가수', '신분',\n",
    "    '임대보증금', '임대료', '지하철', '버스',\n",
    "    '단지내주차면수', '등록차량수'\n",
    "]\n"
   ]
  },
  {
   "cell_type": "markdown",
   "id": "a2ee7ec0",
   "metadata": {
    "id": "a2ee7ec0"
   },
   "source": [
    "# 지하철 Y or N로 변경"
   ]
  },
  {
   "cell_type": "code",
   "execution_count": 162,
   "id": "d4ea84cb",
   "metadata": {
    "ExecuteTime": {
     "end_time": "2021-07-16T13:42:45.644730Z",
     "start_time": "2021-07-16T13:42:45.630767Z"
    },
    "executionInfo": {
     "elapsed": 478,
     "status": "ok",
     "timestamp": 1626418571230,
     "user": {
      "displayName": "박재완",
      "photoUrl": "",
      "userId": "18327523315282194311"
     },
     "user_tz": -540
    },
    "id": "d4ea84cb"
   },
   "outputs": [],
   "source": [
    "train['지하철'] = train['지하철'].fillna(0)\n",
    "train['지하철'] = np.where(train['지하철'] == 0, 0, 1)"
   ]
  },
  {
   "cell_type": "markdown",
   "id": "13db3682",
   "metadata": {
    "id": "13db3682"
   },
   "source": [
    "# 결측치 처리"
   ]
  },
  {
   "cell_type": "code",
   "execution_count": 163,
   "id": "6c2a944b",
   "metadata": {
    "ExecuteTime": {
     "end_time": "2021-07-16T13:42:45.660687Z",
     "start_time": "2021-07-16T13:42:45.646725Z"
    },
    "executionInfo": {
     "elapsed": 398,
     "status": "ok",
     "timestamp": 1626418574070,
     "user": {
      "displayName": "박재완",
      "photoUrl": "",
      "userId": "18327523315282194311"
     },
     "user_tz": -540
    },
    "id": "6c2a944b"
   },
   "outputs": [],
   "source": [
    "train.loc[train.임대보증금=='-', '임대보증금'] = np.nan\n",
    "train.loc[train.임대료=='-', '임대료'] = np.nan\n",
    "train['임대보증금'] = train['임대보증금'].astype(float)\n",
    "train['임대료'] = train['임대료'].astype(float)\n",
    "train['임대보증금'] = train['임대보증금'].fillna(0)\n",
    "train['임대료'] = train['임대료'].fillna(0)"
   ]
  },
  {
   "cell_type": "code",
   "execution_count": 164,
   "id": "2ca7b917",
   "metadata": {
    "ExecuteTime": {
     "end_time": "2021-07-16T13:42:45.676645Z",
     "start_time": "2021-07-16T13:42:45.661685Z"
    },
    "executionInfo": {
     "elapsed": 2,
     "status": "ok",
     "timestamp": 1626418574586,
     "user": {
      "displayName": "박재완",
      "photoUrl": "",
      "userId": "18327523315282194311"
     },
     "user_tz": -540
    },
    "id": "2ca7b917"
   },
   "outputs": [],
   "source": [
    "train['버스'] = train['버스'].fillna(train['버스'].mean())"
   ]
  },
  {
   "cell_type": "code",
   "execution_count": 165,
   "id": "16c3883b",
   "metadata": {
    "ExecuteTime": {
     "end_time": "2021-07-16T13:42:45.692602Z",
     "start_time": "2021-07-16T13:42:45.677642Z"
    },
    "colab": {
     "base_uri": "https://localhost:8080/"
    },
    "executionInfo": {
     "elapsed": 2,
     "status": "ok",
     "timestamp": 1626418575081,
     "user": {
      "displayName": "박재완",
      "photoUrl": "",
      "userId": "18327523315282194311"
     },
     "user_tz": -540
    },
    "id": "16c3883b",
    "outputId": "2b56c843-4486-444f-90e1-7352f950553d"
   },
   "outputs": [
    {
     "data": {
      "text/plain": [
       "단지코드        0\n",
       "총세대수        0\n",
       "임대건물구분      0\n",
       "지역          0\n",
       "공급유형        0\n",
       "전용면적        0\n",
       "전용면적별세대수    0\n",
       "공가수         0\n",
       "신분          0\n",
       "임대보증금       0\n",
       "임대료         0\n",
       "지하철         0\n",
       "버스          0\n",
       "단지내주차면수     0\n",
       "등록차량수       0\n",
       "dtype: int64"
      ]
     },
     "execution_count": 165,
     "metadata": {},
     "output_type": "execute_result"
    }
   ],
   "source": [
    "train.isnull().sum()"
   ]
  },
  {
   "cell_type": "markdown",
   "id": "003a226b",
   "metadata": {
    "id": "003a226b"
   },
   "source": [
    "# 임대건물구분 : 아파트->상가 / 전용면적별세대수 : x->1"
   ]
  },
  {
   "cell_type": "code",
   "execution_count": 166,
   "id": "7eac904f",
   "metadata": {
    "ExecuteTime": {
     "end_time": "2021-07-16T13:42:45.708559Z",
     "start_time": "2021-07-16T13:42:45.693599Z"
    },
    "executionInfo": {
     "elapsed": 2,
     "status": "ok",
     "timestamp": 1626418577250,
     "user": {
      "displayName": "박재완",
      "photoUrl": "",
      "userId": "18327523315282194311"
     },
     "user_tz": -540
    },
    "id": "7eac904f"
   },
   "outputs": [],
   "source": [
    "idx = train[(train['임대건물구분']=='아파트') & (train['신분']=='D')]['전용면적별세대수'].index\n",
    "train.loc[idx, '전용면적별세대수'] = 1\n",
    "train.loc[idx, '임대건물구분'] = '상가'"
   ]
  },
  {
   "cell_type": "code",
   "execution_count": 167,
   "id": "7e32c993",
   "metadata": {
    "ExecuteTime": {
     "end_time": "2021-07-16T13:42:45.739476Z",
     "start_time": "2021-07-16T13:42:45.709557Z"
    },
    "colab": {
     "base_uri": "https://localhost:8080/",
     "height": 417
    },
    "executionInfo": {
     "elapsed": 5,
     "status": "ok",
     "timestamp": 1626418578241,
     "user": {
      "displayName": "박재완",
      "photoUrl": "",
      "userId": "18327523315282194311"
     },
     "user_tz": -540
    },
    "id": "7e32c993",
    "outputId": "2bf4b49c-2806-48b6-824e-45854d10e9fb"
   },
   "outputs": [
    {
     "data": {
      "text/html": [
       "<div>\n",
       "<style scoped>\n",
       "    .dataframe tbody tr th:only-of-type {\n",
       "        vertical-align: middle;\n",
       "    }\n",
       "\n",
       "    .dataframe tbody tr th {\n",
       "        vertical-align: top;\n",
       "    }\n",
       "\n",
       "    .dataframe thead th {\n",
       "        text-align: right;\n",
       "    }\n",
       "</style>\n",
       "<table border=\"1\" class=\"dataframe\">\n",
       "  <thead>\n",
       "    <tr style=\"text-align: right;\">\n",
       "      <th></th>\n",
       "      <th>단지코드</th>\n",
       "      <th>총세대수</th>\n",
       "      <th>임대건물구분</th>\n",
       "      <th>지역</th>\n",
       "      <th>공급유형</th>\n",
       "      <th>전용면적</th>\n",
       "      <th>전용면적별세대수</th>\n",
       "      <th>공가수</th>\n",
       "      <th>신분</th>\n",
       "      <th>임대보증금</th>\n",
       "      <th>임대료</th>\n",
       "      <th>지하철</th>\n",
       "      <th>버스</th>\n",
       "      <th>단지내주차면수</th>\n",
       "      <th>등록차량수</th>\n",
       "    </tr>\n",
       "  </thead>\n",
       "  <tbody>\n",
       "    <tr>\n",
       "      <th>88</th>\n",
       "      <td>C1925</td>\n",
       "      <td>601</td>\n",
       "      <td>상가</td>\n",
       "      <td>강원도</td>\n",
       "      <td>임대상가</td>\n",
       "      <td>32.100000</td>\n",
       "      <td>1</td>\n",
       "      <td>9.000000</td>\n",
       "      <td>D</td>\n",
       "      <td>0.000000</td>\n",
       "      <td>0.000000</td>\n",
       "      <td>0</td>\n",
       "      <td>4.000000</td>\n",
       "      <td>117.000000</td>\n",
       "      <td>75.000000</td>\n",
       "    </tr>\n",
       "    <tr>\n",
       "      <th>89</th>\n",
       "      <td>C1925</td>\n",
       "      <td>601</td>\n",
       "      <td>상가</td>\n",
       "      <td>강원도</td>\n",
       "      <td>임대상가</td>\n",
       "      <td>32.100000</td>\n",
       "      <td>1</td>\n",
       "      <td>9.000000</td>\n",
       "      <td>D</td>\n",
       "      <td>0.000000</td>\n",
       "      <td>0.000000</td>\n",
       "      <td>0</td>\n",
       "      <td>4.000000</td>\n",
       "      <td>117.000000</td>\n",
       "      <td>75.000000</td>\n",
       "    </tr>\n",
       "    <tr>\n",
       "      <th>90</th>\n",
       "      <td>C1925</td>\n",
       "      <td>601</td>\n",
       "      <td>상가</td>\n",
       "      <td>강원도</td>\n",
       "      <td>임대상가</td>\n",
       "      <td>32.100000</td>\n",
       "      <td>1</td>\n",
       "      <td>9.000000</td>\n",
       "      <td>D</td>\n",
       "      <td>0.000000</td>\n",
       "      <td>0.000000</td>\n",
       "      <td>0</td>\n",
       "      <td>4.000000</td>\n",
       "      <td>117.000000</td>\n",
       "      <td>75.000000</td>\n",
       "    </tr>\n",
       "    <tr>\n",
       "      <th>91</th>\n",
       "      <td>C1925</td>\n",
       "      <td>601</td>\n",
       "      <td>상가</td>\n",
       "      <td>강원도</td>\n",
       "      <td>임대상가</td>\n",
       "      <td>72.160000</td>\n",
       "      <td>1</td>\n",
       "      <td>9.000000</td>\n",
       "      <td>D</td>\n",
       "      <td>0.000000</td>\n",
       "      <td>0.000000</td>\n",
       "      <td>0</td>\n",
       "      <td>4.000000</td>\n",
       "      <td>117.000000</td>\n",
       "      <td>75.000000</td>\n",
       "    </tr>\n",
       "    <tr>\n",
       "      <th>101</th>\n",
       "      <td>C1874</td>\n",
       "      <td>619</td>\n",
       "      <td>상가</td>\n",
       "      <td>충청남도</td>\n",
       "      <td>임대상가</td>\n",
       "      <td>12.620000</td>\n",
       "      <td>1</td>\n",
       "      <td>2.000000</td>\n",
       "      <td>D</td>\n",
       "      <td>0.000000</td>\n",
       "      <td>0.000000</td>\n",
       "      <td>0</td>\n",
       "      <td>2.000000</td>\n",
       "      <td>97.000000</td>\n",
       "      <td>62.000000</td>\n",
       "    </tr>\n",
       "    <tr>\n",
       "      <th>...</th>\n",
       "      <td>...</td>\n",
       "      <td>...</td>\n",
       "      <td>...</td>\n",
       "      <td>...</td>\n",
       "      <td>...</td>\n",
       "      <td>...</td>\n",
       "      <td>...</td>\n",
       "      <td>...</td>\n",
       "      <td>...</td>\n",
       "      <td>...</td>\n",
       "      <td>...</td>\n",
       "      <td>...</td>\n",
       "      <td>...</td>\n",
       "      <td>...</td>\n",
       "      <td>...</td>\n",
       "    </tr>\n",
       "    <tr>\n",
       "      <th>2333</th>\n",
       "      <td>C1350</td>\n",
       "      <td>1401</td>\n",
       "      <td>상가</td>\n",
       "      <td>대전광역시</td>\n",
       "      <td>공공분양</td>\n",
       "      <td>74.940000</td>\n",
       "      <td>1</td>\n",
       "      <td>2.000000</td>\n",
       "      <td>D</td>\n",
       "      <td>0.000000</td>\n",
       "      <td>0.000000</td>\n",
       "      <td>0</td>\n",
       "      <td>6.000000</td>\n",
       "      <td>1636.000000</td>\n",
       "      <td>2315.000000</td>\n",
       "    </tr>\n",
       "    <tr>\n",
       "      <th>2334</th>\n",
       "      <td>C1350</td>\n",
       "      <td>1401</td>\n",
       "      <td>상가</td>\n",
       "      <td>대전광역시</td>\n",
       "      <td>공공분양</td>\n",
       "      <td>84.940000</td>\n",
       "      <td>1</td>\n",
       "      <td>2.000000</td>\n",
       "      <td>D</td>\n",
       "      <td>0.000000</td>\n",
       "      <td>0.000000</td>\n",
       "      <td>0</td>\n",
       "      <td>6.000000</td>\n",
       "      <td>1636.000000</td>\n",
       "      <td>2315.000000</td>\n",
       "    </tr>\n",
       "    <tr>\n",
       "      <th>2335</th>\n",
       "      <td>C1350</td>\n",
       "      <td>1401</td>\n",
       "      <td>상가</td>\n",
       "      <td>대전광역시</td>\n",
       "      <td>공공분양</td>\n",
       "      <td>84.940000</td>\n",
       "      <td>1</td>\n",
       "      <td>2.000000</td>\n",
       "      <td>D</td>\n",
       "      <td>0.000000</td>\n",
       "      <td>0.000000</td>\n",
       "      <td>0</td>\n",
       "      <td>6.000000</td>\n",
       "      <td>1636.000000</td>\n",
       "      <td>2315.000000</td>\n",
       "    </tr>\n",
       "    <tr>\n",
       "      <th>2336</th>\n",
       "      <td>C1350</td>\n",
       "      <td>1401</td>\n",
       "      <td>상가</td>\n",
       "      <td>대전광역시</td>\n",
       "      <td>공공분양</td>\n",
       "      <td>84.960000</td>\n",
       "      <td>1</td>\n",
       "      <td>2.000000</td>\n",
       "      <td>D</td>\n",
       "      <td>0.000000</td>\n",
       "      <td>0.000000</td>\n",
       "      <td>0</td>\n",
       "      <td>6.000000</td>\n",
       "      <td>1636.000000</td>\n",
       "      <td>2315.000000</td>\n",
       "    </tr>\n",
       "    <tr>\n",
       "      <th>2337</th>\n",
       "      <td>C1350</td>\n",
       "      <td>1401</td>\n",
       "      <td>상가</td>\n",
       "      <td>대전광역시</td>\n",
       "      <td>공공분양</td>\n",
       "      <td>84.970000</td>\n",
       "      <td>1</td>\n",
       "      <td>2.000000</td>\n",
       "      <td>D</td>\n",
       "      <td>0.000000</td>\n",
       "      <td>0.000000</td>\n",
       "      <td>0</td>\n",
       "      <td>6.000000</td>\n",
       "      <td>1636.000000</td>\n",
       "      <td>2315.000000</td>\n",
       "    </tr>\n",
       "  </tbody>\n",
       "</table>\n",
       "<p>569 rows × 15 columns</p>\n",
       "</div>"
      ],
      "text/plain": [
       "       단지코드  총세대수 임대건물구분     지역  공급유형      전용면적  전용면적별세대수      공가수 신분  \\\n",
       "88    C1925   601     상가    강원도  임대상가 32.100000         1 9.000000  D   \n",
       "89    C1925   601     상가    강원도  임대상가 32.100000         1 9.000000  D   \n",
       "90    C1925   601     상가    강원도  임대상가 32.100000         1 9.000000  D   \n",
       "91    C1925   601     상가    강원도  임대상가 72.160000         1 9.000000  D   \n",
       "101   C1874   619     상가   충청남도  임대상가 12.620000         1 2.000000  D   \n",
       "...     ...   ...    ...    ...   ...       ...       ...      ... ..   \n",
       "2333  C1350  1401     상가  대전광역시  공공분양 74.940000         1 2.000000  D   \n",
       "2334  C1350  1401     상가  대전광역시  공공분양 84.940000         1 2.000000  D   \n",
       "2335  C1350  1401     상가  대전광역시  공공분양 84.940000         1 2.000000  D   \n",
       "2336  C1350  1401     상가  대전광역시  공공분양 84.960000         1 2.000000  D   \n",
       "2337  C1350  1401     상가  대전광역시  공공분양 84.970000         1 2.000000  D   \n",
       "\n",
       "        임대보증금      임대료  지하철       버스     단지내주차면수       등록차량수  \n",
       "88   0.000000 0.000000    0 4.000000  117.000000   75.000000  \n",
       "89   0.000000 0.000000    0 4.000000  117.000000   75.000000  \n",
       "90   0.000000 0.000000    0 4.000000  117.000000   75.000000  \n",
       "91   0.000000 0.000000    0 4.000000  117.000000   75.000000  \n",
       "101  0.000000 0.000000    0 2.000000   97.000000   62.000000  \n",
       "...       ...      ...  ...      ...         ...         ...  \n",
       "2333 0.000000 0.000000    0 6.000000 1636.000000 2315.000000  \n",
       "2334 0.000000 0.000000    0 6.000000 1636.000000 2315.000000  \n",
       "2335 0.000000 0.000000    0 6.000000 1636.000000 2315.000000  \n",
       "2336 0.000000 0.000000    0 6.000000 1636.000000 2315.000000  \n",
       "2337 0.000000 0.000000    0 6.000000 1636.000000 2315.000000  \n",
       "\n",
       "[569 rows x 15 columns]"
      ]
     },
     "execution_count": 167,
     "metadata": {},
     "output_type": "execute_result"
    }
   ],
   "source": [
    "train[(train['임대건물구분']=='상가') & (train['신분']=='D')]"
   ]
  },
  {
   "cell_type": "code",
   "execution_count": 168,
   "id": "6802e035",
   "metadata": {
    "ExecuteTime": {
     "end_time": "2021-07-16T13:42:45.755434Z",
     "start_time": "2021-07-16T13:42:45.740474Z"
    },
    "executionInfo": {
     "elapsed": 2,
     "status": "ok",
     "timestamp": 1626418579510,
     "user": {
      "displayName": "박재완",
      "photoUrl": "",
      "userId": "18327523315282194311"
     },
     "user_tz": -540
    },
    "id": "6802e035"
   },
   "outputs": [],
   "source": [
    "# 원핫 인코딩\n",
    "#train = pd.get_dummies(data = train, columns = ['지하철'])"
   ]
  },
  {
   "cell_type": "markdown",
   "id": "39d4618c",
   "metadata": {
    "id": "39d4618c"
   },
   "source": [
    "# 지역명 숫자로 매핑"
   ]
  },
  {
   "cell_type": "code",
   "execution_count": 169,
   "id": "8cbf446a",
   "metadata": {
    "ExecuteTime": {
     "end_time": "2021-07-16T13:42:45.771391Z",
     "start_time": "2021-07-16T13:42:45.756461Z"
    },
    "executionInfo": {
     "elapsed": 2,
     "status": "ok",
     "timestamp": 1626418581357,
     "user": {
      "displayName": "박재완",
      "photoUrl": "",
      "userId": "18327523315282194311"
     },
     "user_tz": -540
    },
    "id": "8cbf446a"
   },
   "outputs": [],
   "source": [
    "local_map = {}\n",
    "for i, loc in enumerate(train['지역'].unique()):\n",
    "    local_map[loc] = i\n",
    "    \n",
    "train['지역'] = train['지역'].map(local_map)\n",
    "\n",
    "# 세종 : 15"
   ]
  },
  {
   "cell_type": "markdown",
   "id": "837efa3b",
   "metadata": {
    "id": "837efa3b"
   },
   "source": [
    "# 전용면적을 5의 배수로 변경"
   ]
  },
  {
   "cell_type": "code",
   "execution_count": 170,
   "id": "fd726145",
   "metadata": {
    "ExecuteTime": {
     "end_time": "2021-07-16T13:42:45.787348Z",
     "start_time": "2021-07-16T13:42:45.772389Z"
    },
    "executionInfo": {
     "elapsed": 508,
     "status": "ok",
     "timestamp": 1626418583646,
     "user": {
      "displayName": "박재완",
      "photoUrl": "",
      "userId": "18327523315282194311"
     },
     "user_tz": -540
    },
    "id": "fd726145"
   },
   "outputs": [],
   "source": [
    "train['전용면적'] = train['전용면적']//5*5"
   ]
  },
  {
   "cell_type": "markdown",
   "id": "e640c287",
   "metadata": {
    "id": "e640c287"
   },
   "source": [
    "# 전용면적 상/하한 적용"
   ]
  },
  {
   "cell_type": "code",
   "execution_count": 171,
   "id": "d4067e14",
   "metadata": {
    "ExecuteTime": {
     "end_time": "2021-07-16T13:42:45.803306Z",
     "start_time": "2021-07-16T13:42:45.788346Z"
    },
    "executionInfo": {
     "elapsed": 1,
     "status": "ok",
     "timestamp": 1626418585010,
     "user": {
      "displayName": "박재완",
      "photoUrl": "",
      "userId": "18327523315282194311"
     },
     "user_tz": -540
    },
    "id": "d4067e14"
   },
   "outputs": [],
   "source": [
    "idx = train[train['전용면적']>100].index\n",
    "train.loc[idx, '전용면적'] = 100\n",
    "\n",
    "idx = train[train['전용면적']<15].index\n",
    "train.loc[idx, '전용면적'] = 15"
   ]
  },
  {
   "cell_type": "markdown",
   "id": "7c7af4db",
   "metadata": {},
   "source": [
    "# 세종 데이터 분리"
   ]
  },
  {
   "cell_type": "code",
   "execution_count": 172,
   "id": "e9ae66a6",
   "metadata": {
    "ExecuteTime": {
     "end_time": "2021-07-16T13:42:45.819263Z",
     "start_time": "2021-07-16T13:42:45.804303Z"
    }
   },
   "outputs": [],
   "source": [
    "train_sejong = train[train['지역']==15]\n",
    "train_other = train[train['지역']!=15]"
   ]
  },
  {
   "cell_type": "markdown",
   "id": "300cd409",
   "metadata": {
    "id": "300cd409"
   },
   "source": [
    "# test 불러오기"
   ]
  },
  {
   "cell_type": "code",
   "execution_count": 173,
   "id": "405d1fd7",
   "metadata": {
    "ExecuteTime": {
     "end_time": "2021-07-16T13:42:45.835221Z",
     "start_time": "2021-07-16T13:42:45.820275Z"
    },
    "executionInfo": {
     "elapsed": 424,
     "status": "ok",
     "timestamp": 1626418587986,
     "user": {
      "displayName": "박재완",
      "photoUrl": "",
      "userId": "18327523315282194311"
     },
     "user_tz": -540
    },
    "id": "405d1fd7"
   },
   "outputs": [],
   "source": [
    "test.columns = [\n",
    "    '단지코드', '총세대수', '임대건물구분', '지역', '공급유형', '전용면적', '전용면적별세대수', '공가수', '신분',\n",
    "    '임대보증금', '임대료', '지하철', '버스',\n",
    "    '단지내주차면수'\n",
    "]"
   ]
  },
  {
   "cell_type": "code",
   "execution_count": 174,
   "id": "c6d9caa1",
   "metadata": {
    "ExecuteTime": {
     "end_time": "2021-07-16T13:42:45.851178Z",
     "start_time": "2021-07-16T13:42:45.836218Z"
    },
    "colab": {
     "base_uri": "https://localhost:8080/"
    },
    "executionInfo": {
     "elapsed": 680,
     "status": "ok",
     "timestamp": 1626418589176,
     "user": {
      "displayName": "박재완",
      "photoUrl": "",
      "userId": "18327523315282194311"
     },
     "user_tz": -540
    },
    "id": "c6d9caa1",
    "outputId": "91fabb53-c473-4ee3-cbbe-1afb6fd9dbef"
   },
   "outputs": [
    {
     "data": {
      "text/plain": [
       "단지코드          0\n",
       "총세대수          0\n",
       "임대건물구분        0\n",
       "지역            0\n",
       "공급유형          0\n",
       "전용면적          0\n",
       "전용면적별세대수      0\n",
       "공가수           0\n",
       "신분            2\n",
       "임대보증금       180\n",
       "임대료         180\n",
       "지하철          42\n",
       "버스            0\n",
       "단지내주차면수       0\n",
       "dtype: int64"
      ]
     },
     "execution_count": 174,
     "metadata": {},
     "output_type": "execute_result"
    }
   ],
   "source": [
    "test.isnull().sum()"
   ]
  },
  {
   "cell_type": "code",
   "execution_count": 175,
   "id": "3e5a344d",
   "metadata": {
    "ExecuteTime": {
     "end_time": "2021-07-16T13:42:45.867135Z",
     "start_time": "2021-07-16T13:42:45.852175Z"
    },
    "executionInfo": {
     "elapsed": 394,
     "status": "ok",
     "timestamp": 1626419593919,
     "user": {
      "displayName": "박재완",
      "photoUrl": "",
      "userId": "18327523315282194311"
     },
     "user_tz": -540
    },
    "id": "3e5a344d"
   },
   "outputs": [],
   "source": [
    "test.loc[test.임대보증금=='-', '임대보증금'] = np.nan\n",
    "test.loc[test.임대료=='-', '임대료'] = np.nan\n",
    "test['임대보증금'] = test['임대보증금'].fillna(0)\n",
    "test['임대료'] = test['임대료'].fillna(0)\n",
    "test['임대보증금'] = test['임대보증금'].astype(float)\n",
    "test['임대료'] = test['임대료'].astype(float)"
   ]
  },
  {
   "cell_type": "code",
   "execution_count": 176,
   "id": "8f296691",
   "metadata": {
    "ExecuteTime": {
     "end_time": "2021-07-16T13:42:45.883092Z",
     "start_time": "2021-07-16T13:42:45.868132Z"
    },
    "executionInfo": {
     "elapsed": 3,
     "status": "ok",
     "timestamp": 1626419594311,
     "user": {
      "displayName": "박재완",
      "photoUrl": "",
      "userId": "18327523315282194311"
     },
     "user_tz": -540
    },
    "id": "8f296691"
   },
   "outputs": [],
   "source": [
    "test['지하철'] = test['지하철'].fillna(0)\n",
    "test['지하철'] = np.where(test['지하철'] == 0, 0, 1)"
   ]
  },
  {
   "cell_type": "code",
   "execution_count": 177,
   "id": "ce2ae6a1",
   "metadata": {
    "ExecuteTime": {
     "end_time": "2021-07-16T13:42:45.899050Z",
     "start_time": "2021-07-16T13:42:45.884090Z"
    },
    "executionInfo": {
     "elapsed": 504,
     "status": "ok",
     "timestamp": 1626419595304,
     "user": {
      "displayName": "박재완",
      "photoUrl": "",
      "userId": "18327523315282194311"
     },
     "user_tz": -540
    },
    "id": "ce2ae6a1"
   },
   "outputs": [],
   "source": [
    "test.loc[test.단지코드.isin(['C2411']) & test.신분.isnull(), '신분'] = 'A'\n",
    "test.loc[test.단지코드.isin(['C2253']) & test.신분.isnull(), '신분'] = 'C'"
   ]
  },
  {
   "cell_type": "code",
   "execution_count": 178,
   "id": "270b6f5f",
   "metadata": {
    "ExecuteTime": {
     "end_time": "2021-07-16T13:42:45.915007Z",
     "start_time": "2021-07-16T13:42:45.901045Z"
    },
    "executionInfo": {
     "elapsed": 2,
     "status": "ok",
     "timestamp": 1626419595305,
     "user": {
      "displayName": "박재완",
      "photoUrl": "",
      "userId": "18327523315282194311"
     },
     "user_tz": -540
    },
    "id": "270b6f5f"
   },
   "outputs": [],
   "source": [
    "local_map = {}\n",
    "for i, loc in enumerate(test['지역'].unique()):\n",
    "    local_map[loc] = i\n",
    "    \n",
    "test['지역'] = test['지역'].map(local_map)"
   ]
  },
  {
   "cell_type": "code",
   "execution_count": 179,
   "id": "kpmRHrwKKLUU",
   "metadata": {
    "ExecuteTime": {
     "end_time": "2021-07-16T13:42:45.930964Z",
     "start_time": "2021-07-16T13:42:45.916004Z"
    },
    "executionInfo": {
     "elapsed": 2,
     "status": "ok",
     "timestamp": 1626419595695,
     "user": {
      "displayName": "박재완",
      "photoUrl": "",
      "userId": "18327523315282194311"
     },
     "user_tz": -540
    },
    "id": "kpmRHrwKKLUU"
   },
   "outputs": [],
   "source": [
    "test['전용면적'] = test['전용면적']//5*5\n",
    "\n",
    "idx = test[test['전용면적']>100].index\n",
    "test.loc[idx, '전용면적'] = 100\n",
    "\n",
    "idx = test[test['전용면적']<15].index\n",
    "test.loc[idx, '전용면적'] = 15"
   ]
  },
  {
   "cell_type": "markdown",
   "id": "0ac9f1a4",
   "metadata": {},
   "source": [
    "# 세종 데이터 분리"
   ]
  },
  {
   "cell_type": "code",
   "execution_count": 180,
   "id": "27f9d229",
   "metadata": {
    "ExecuteTime": {
     "end_time": "2021-07-16T13:42:45.946922Z",
     "start_time": "2021-07-16T13:42:45.931962Z"
    }
   },
   "outputs": [],
   "source": [
    "test_sejong = test[test['지역']==14]\n",
    "test_other = test[test['지역']!=14]"
   ]
  },
  {
   "cell_type": "code",
   "execution_count": 181,
   "id": "a2023acd",
   "metadata": {
    "ExecuteTime": {
     "end_time": "2021-07-16T13:42:45.962879Z",
     "start_time": "2021-07-16T13:42:45.947919Z"
    },
    "colab": {
     "base_uri": "https://localhost:8080/"
    },
    "executionInfo": {
     "elapsed": 389,
     "status": "ok",
     "timestamp": 1626419600717,
     "user": {
      "displayName": "박재완",
      "photoUrl": "",
      "userId": "18327523315282194311"
     },
     "user_tz": -540
    },
    "id": "a2023acd",
    "outputId": "616e43e9-57e1-4b1e-d929-f214b8ad0dbe"
   },
   "outputs": [
    {
     "data": {
      "text/plain": [
       "단지코드        0\n",
       "총세대수        0\n",
       "임대건물구분      0\n",
       "지역          0\n",
       "공급유형        0\n",
       "전용면적        0\n",
       "전용면적별세대수    0\n",
       "공가수         0\n",
       "신분          0\n",
       "임대보증금       0\n",
       "임대료         0\n",
       "지하철         0\n",
       "버스          0\n",
       "단지내주차면수     0\n",
       "dtype: int64"
      ]
     },
     "execution_count": 181,
     "metadata": {},
     "output_type": "execute_result"
    }
   ],
   "source": [
    "test.isnull().sum()"
   ]
  },
  {
   "cell_type": "code",
   "execution_count": 182,
   "id": "d7d3c8db",
   "metadata": {
    "ExecuteTime": {
     "end_time": "2021-07-16T13:42:45.978837Z",
     "start_time": "2021-07-16T13:42:45.963876Z"
    },
    "executionInfo": {
     "elapsed": 412,
     "status": "ok",
     "timestamp": 1626419604376,
     "user": {
      "displayName": "박재완",
      "photoUrl": "",
      "userId": "18327523315282194311"
     },
     "user_tz": -540
    },
    "id": "d7d3c8db"
   },
   "outputs": [],
   "source": [
    "columns = ['단지코드', '총세대수', '지역', '전용면적별세대수', '공가수', '지하철', '버스', '단지내주차면수']\n",
    "target = '등록차량수'\n",
    "area_columns = []\n",
    "for area in train['전용면적'].unique():\n",
    "    area_columns.append(f'면적_{area}')"
   ]
  },
  {
   "cell_type": "code",
   "execution_count": 183,
   "id": "1d6a9bbf",
   "metadata": {
    "ExecuteTime": {
     "end_time": "2021-07-16T13:42:45.994794Z",
     "start_time": "2021-07-16T13:42:45.979834Z"
    },
    "executionInfo": {
     "elapsed": 2,
     "status": "ok",
     "timestamp": 1626419604793,
     "user": {
      "displayName": "박재완",
      "photoUrl": "",
      "userId": "18327523315282194311"
     },
     "user_tz": -540
    },
    "id": "1d6a9bbf"
   },
   "outputs": [],
   "source": [
    "new_train = pd.DataFrame()\n",
    "new_test = pd.DataFrame()"
   ]
  },
  {
   "cell_type": "code",
   "execution_count": 184,
   "id": "EM7sVhheGyXJ",
   "metadata": {
    "ExecuteTime": {
     "end_time": "2021-07-16T13:42:46.010751Z",
     "start_time": "2021-07-16T13:42:45.995791Z"
    },
    "executionInfo": {
     "elapsed": 2,
     "status": "ok",
     "timestamp": 1626419605311,
     "user": {
      "displayName": "박재완",
      "photoUrl": "",
      "userId": "18327523315282194311"
     },
     "user_tz": -540
    },
    "id": "EM7sVhheGyXJ"
   },
   "outputs": [],
   "source": [
    "new_train['임대보증금'] = 0\n",
    "new_train['임대료'] = 0\n",
    "new_test['임대보증금'] = 0\n",
    "new_test['임대료'] = 0"
   ]
  },
  {
   "cell_type": "markdown",
   "id": "t_MyqJ24G5dp",
   "metadata": {
    "id": "t_MyqJ24G5dp"
   },
   "source": [
    "# 수정한 코드"
   ]
  },
  {
   "cell_type": "code",
   "execution_count": 185,
   "id": "FwCH0aL1G74e",
   "metadata": {
    "ExecuteTime": {
     "end_time": "2021-07-16T13:42:57.234398Z",
     "start_time": "2021-07-16T13:42:46.011748Z"
    },
    "colab": {
     "base_uri": "https://localhost:8080/"
    },
    "executionInfo": {
     "elapsed": 17110,
     "status": "ok",
     "timestamp": 1626419631425,
     "user": {
      "displayName": "박재완",
      "photoUrl": "",
      "userId": "18327523315282194311"
     },
     "user_tz": -540
    },
    "id": "FwCH0aL1G74e",
    "outputId": "e63df926-4ebe-4fb3-91bf-9715cff73de7"
   },
   "outputs": [
    {
     "name": "stderr",
     "output_type": "stream",
     "text": [
      "423it [00:08, 50.83it/s]\n",
      "150it [00:02, 52.24it/s]\n"
     ]
    }
   ],
   "source": [
    "# Train Dataframe Set\n",
    "# 미사용 열s - 임대건물구분, 공급유형, 자격유형 임대보증금, 임대료\n",
    "for i, code in tqdm(enumerate(train['단지코드'].unique())):\n",
    "    temp = train[train['단지코드']==code]\n",
    "    temp.index = range(temp.shape[0]) # index 재설정\n",
    "    for col in columns:\n",
    "        new_train.loc[i, col] = temp.loc[0, col] # Fixed Data\n",
    "    \n",
    "    deposit_cost = []\n",
    "    rental_cost = []\n",
    "\n",
    "    for col in area_columns:\n",
    "        area = float(col.split('_')[-1]) # 면적의 숫자를 float형으로 저장\n",
    "        # '면적_10' 등의 열을 만들고 - 같은 전용면적들 끼리 전용면적별세대수의 합을 Value로 Cell에 입력\n",
    "        new_train.loc[i, col] = temp[temp['전용면적']==area]['전용면적별세대수'].sum()\n",
    "        \n",
    "        try:\n",
    "          deposit_cost.append(temp[temp['전용면적']==area]['임대보증금'][0])\n",
    "          rental_cost.append(temp[temp['전용면적']==area]['임대료'][0])\n",
    "        except KeyError as e:\n",
    "          continue\n",
    "    \n",
    "    new_train.loc[i, '등록차량수'] = temp.loc[0, '등록차량수']\n",
    "    # print(type(deposit_cost[0]))\n",
    "    new_train.loc[i, '임대보증금'] = int(np.mean(deposit_cost))\n",
    "    new_train.loc[i, '임대료'] = int(np.mean(rental_cost))\n",
    "\n",
    "# Test DataFrame Set\n",
    "# 미사용 열s - 임대건물구분, 공급유형, 자격유형 임대보증금, 임대료, 등록차량수\n",
    "for i, code in tqdm(enumerate(test['단지코드'].unique())):\n",
    "    temp = test[test['단지코드']==code]\n",
    "    temp.index = range(temp.shape[0])\n",
    "    for col in columns:\n",
    "        new_test.loc[i, col] = temp.loc[0, col]\n",
    "\n",
    "    deposit_cost = []\n",
    "    rental_cost = []\n",
    "    \n",
    "    for col in area_columns:\n",
    "        area = float(col.split('_')[-1])\n",
    "        new_test.loc[i, col] = temp[temp['전용면적']==area]['전용면적별세대수'].sum()\n",
    "        \n",
    "        try:\n",
    "          deposit_cost.append(temp[temp['전용면적']==area]['임대보증금'][0])\n",
    "          rental_cost.append(temp[temp['전용면적']==area]['임대료'][0])\n",
    "        except KeyError as e:\n",
    "          continue\n",
    "          \n",
    "    new_test.loc[i, '임대보증금'] = int(np.mean(deposit_cost))\n",
    "    new_test.loc[i, '임대료'] = int(np.mean(rental_cost))"
   ]
  },
  {
   "cell_type": "markdown",
   "id": "4594b3c9",
   "metadata": {},
   "source": [
    "# 세종 데이터 나누기"
   ]
  },
  {
   "cell_type": "code",
   "execution_count": 186,
   "id": "15d1d8d8",
   "metadata": {
    "ExecuteTime": {
     "end_time": "2021-07-16T13:42:57.250364Z",
     "start_time": "2021-07-16T13:42:57.237437Z"
    }
   },
   "outputs": [],
   "source": [
    "# Train\n",
    "new_train_sejong = new_train[new_train['지역']==15]\n",
    "new_train_other = new_train[new_train['지역']!=15]\n",
    "\n",
    "# Test\n",
    "new_test_sejong = new_test[new_test['지역']==14]\n",
    "new_test_other = new_test[new_test['지역']!=14]"
   ]
  },
  {
   "cell_type": "markdown",
   "id": "a06ef538",
   "metadata": {
    "ExecuteTime": {
     "end_time": "2021-07-16T13:05:57.393175Z",
     "start_time": "2021-07-16T13:05:57.389185Z"
    },
    "colab": {
     "base_uri": "https://localhost:8080/",
     "height": 394
    },
    "executionInfo": {
     "elapsed": 481,
     "status": "ok",
     "timestamp": 1626419655580,
     "user": {
      "displayName": "박재완",
      "photoUrl": "",
      "userId": "18327523315282194311"
     },
     "user_tz": -540
    },
    "id": "iFbUQZ0lKkaE",
    "outputId": "0fd54612-0a4b-41e4-d5c2-414f3f6f9a4e",
    "scrolled": true
   },
   "source": [
    "# 학습 데이터 나누기"
   ]
  },
  {
   "cell_type": "code",
   "execution_count": 187,
   "id": "1ecf366d",
   "metadata": {
    "ExecuteTime": {
     "end_time": "2021-07-16T13:42:57.266320Z",
     "start_time": "2021-07-16T13:42:57.251357Z"
    },
    "id": "1ecf366d"
   },
   "outputs": [],
   "source": [
    "# Train\n",
    "x_train_sejong = new_train_sejong.iloc[:, :-1]\n",
    "y_train_sejong = new_train_sejong.iloc[:, -1]\n",
    "\n",
    "x_train_other = new_train_other.iloc[:, :-1]\n",
    "y_train_other = new_train_other.iloc[:, -1]\n",
    "\n",
    "# Test\n",
    "x_test_sejong = new_test_sejong\n",
    "x_test_other = new_test_other "
   ]
  },
  {
   "cell_type": "markdown",
   "id": "84b0df2b",
   "metadata": {},
   "source": [
    "# 학습시킬 데이터 Copy"
   ]
  },
  {
   "cell_type": "code",
   "execution_count": 188,
   "id": "6db738ec",
   "metadata": {
    "ExecuteTime": {
     "end_time": "2021-07-16T13:42:57.281625Z",
     "start_time": "2021-07-16T13:42:57.267987Z"
    }
   },
   "outputs": [],
   "source": [
    "# Copy하는 이유\n",
    "# 학습시킬 때 'Code' 열을 지워서 학습시키기 위함\n",
    "# 학습에 넣을 데이터는 '*_copy'를 넣음\n",
    "x_train_sejong_copy = x_train_sejong.copy()\n",
    "x_train_other_copy = x_train_other.copy()\n",
    "\n",
    "x_test_sejong_copy = x_test_sejong.copy()\n",
    "x_test_other_copy = x_test_other.copy()\n",
    "\n",
    "del x_train_sejong_copy['단지코드']\n",
    "del x_train_other_copy['단지코드']\n",
    "del x_test_sejong_copy['단지코드']\n",
    "del x_test_other_copy['단지코드']"
   ]
  },
  {
   "cell_type": "markdown",
   "id": "fb46d2e2",
   "metadata": {},
   "source": [
    "# Index 추출"
   ]
  },
  {
   "cell_type": "code",
   "execution_count": 189,
   "id": "69fc0291",
   "metadata": {
    "ExecuteTime": {
     "end_time": "2021-07-16T13:42:57.297588Z",
     "start_time": "2021-07-16T13:42:57.283625Z"
    }
   },
   "outputs": [
    {
     "name": "stdout",
     "output_type": "stream",
     "text": [
      "세종 Index :  Int64Index([121, 127, 135], dtype='int64')\n",
      "세종 개수 :  3\n"
     ]
    }
   ],
   "source": [
    "# Index를 추출하는 이유\n",
    "# submission에서 index로 찾아 값을 넣는게 가장 편함\n",
    "sejong_idx = x_test_sejong['단지코드'].index\n",
    "print('세종 Index : ', sejong_idx)\n",
    "print('세종 개수 : ', len(sejong_idx))"
   ]
  },
  {
   "cell_type": "code",
   "execution_count": 190,
   "id": "f77b1f1b",
   "metadata": {
    "ExecuteTime": {
     "end_time": "2021-07-16T13:42:57.313576Z",
     "start_time": "2021-07-16T13:42:57.299583Z"
    }
   },
   "outputs": [
    {
     "name": "stdout",
     "output_type": "stream",
     "text": [
      "세종 제외 Index :  Int64Index([  0,   1,   2,   3,   4,   5,   6,   7,   8,   9,\n",
      "            ...\n",
      "            140, 141, 142, 143, 144, 145, 146, 147, 148, 149],\n",
      "           dtype='int64', length=147)\n",
      "세종 제외 개수 :  147\n"
     ]
    }
   ],
   "source": [
    "other_idx = x_test_other['단지코드'].index\n",
    "print('세종 제외 Index : ', other_idx)\n",
    "print('세종 제외 개수 : ', len(other_idx))"
   ]
  },
  {
   "cell_type": "markdown",
   "id": "c9ecf4ea",
   "metadata": {},
   "source": [
    "# 학습"
   ]
  },
  {
   "cell_type": "code",
   "execution_count": 191,
   "id": "db70b735",
   "metadata": {
    "ExecuteTime": {
     "end_time": "2021-07-16T13:42:57.615394Z",
     "start_time": "2021-07-16T13:42:57.314602Z"
    },
    "id": "db70b735",
    "outputId": "b8dce862-5ff1-45ba-ea72-420b5b5215ac",
    "scrolled": true
   },
   "outputs": [
    {
     "data": {
      "text/plain": [
       "RandomForestRegressor(n_jobs=-1, random_state=42)"
      ]
     },
     "execution_count": 191,
     "metadata": {},
     "output_type": "execute_result"
    }
   ],
   "source": [
    "forest_sejong = RandomForestRegressor(n_jobs=-1, random_state=42)\n",
    "forest_other = RandomForestRegressor(n_jobs=-1, random_state=42)\n",
    "\n",
    "forest_sejong.fit(x_train_sejong_copy, y_train_sejong)\n",
    "forest_other.fit(x_train_other_copy, y_train_other)"
   ]
  },
  {
   "cell_type": "markdown",
   "id": "08cab2ae",
   "metadata": {},
   "source": [
    "# 예측"
   ]
  },
  {
   "cell_type": "code",
   "execution_count": 192,
   "id": "67f28227",
   "metadata": {
    "ExecuteTime": {
     "end_time": "2021-07-16T13:42:57.865278Z",
     "start_time": "2021-07-16T13:42:57.619385Z"
    },
    "id": "67f28227"
   },
   "outputs": [],
   "source": [
    "pred_sejong = forest_sejong.predict(x_test_sejong_copy)\n",
    "pred_other = forest_other.predict(x_test_other_copy)\n",
    "#pred"
   ]
  },
  {
   "cell_type": "markdown",
   "id": "7b97113d",
   "metadata": {},
   "source": [
    "# 데이터프레임으로 편하게 보기"
   ]
  },
  {
   "cell_type": "code",
   "execution_count": 193,
   "id": "42efe3bf",
   "metadata": {
    "ExecuteTime": {
     "end_time": "2021-07-16T13:42:57.881163Z",
     "start_time": "2021-07-16T13:42:57.867281Z"
    }
   },
   "outputs": [
    {
     "data": {
      "text/html": [
       "<div>\n",
       "<style scoped>\n",
       "    .dataframe tbody tr th:only-of-type {\n",
       "        vertical-align: middle;\n",
       "    }\n",
       "\n",
       "    .dataframe tbody tr th {\n",
       "        vertical-align: top;\n",
       "    }\n",
       "\n",
       "    .dataframe thead th {\n",
       "        text-align: right;\n",
       "    }\n",
       "</style>\n",
       "<table border=\"1\" class=\"dataframe\">\n",
       "  <thead>\n",
       "    <tr style=\"text-align: right;\">\n",
       "      <th></th>\n",
       "      <th>세종 INDEX</th>\n",
       "      <th>세종 Predict</th>\n",
       "    </tr>\n",
       "  </thead>\n",
       "  <tbody>\n",
       "    <tr>\n",
       "      <th>0</th>\n",
       "      <td>121</td>\n",
       "      <td>1641.870000</td>\n",
       "    </tr>\n",
       "    <tr>\n",
       "      <th>1</th>\n",
       "      <td>127</td>\n",
       "      <td>1618.030000</td>\n",
       "    </tr>\n",
       "    <tr>\n",
       "      <th>2</th>\n",
       "      <td>135</td>\n",
       "      <td>1637.330000</td>\n",
       "    </tr>\n",
       "  </tbody>\n",
       "</table>\n",
       "</div>"
      ],
      "text/plain": [
       "   세종 INDEX  세종 Predict\n",
       "0       121 1641.870000\n",
       "1       127 1618.030000\n",
       "2       135 1637.330000"
      ]
     },
     "execution_count": 193,
     "metadata": {},
     "output_type": "execute_result"
    }
   ],
   "source": [
    "dic = {'세종 INDEX':sejong_idx, '세종 Predict':pred_sejong}\n",
    "sejong_df = pd.DataFrame(dic)\n",
    "sejong_df"
   ]
  },
  {
   "cell_type": "code",
   "execution_count": 194,
   "id": "73a54145",
   "metadata": {
    "ExecuteTime": {
     "end_time": "2021-07-16T13:42:57.896163Z",
     "start_time": "2021-07-16T13:42:57.882166Z"
    },
    "scrolled": true
   },
   "outputs": [
    {
     "data": {
      "text/html": [
       "<div>\n",
       "<style scoped>\n",
       "    .dataframe tbody tr th:only-of-type {\n",
       "        vertical-align: middle;\n",
       "    }\n",
       "\n",
       "    .dataframe tbody tr th {\n",
       "        vertical-align: top;\n",
       "    }\n",
       "\n",
       "    .dataframe thead th {\n",
       "        text-align: right;\n",
       "    }\n",
       "</style>\n",
       "<table border=\"1\" class=\"dataframe\">\n",
       "  <thead>\n",
       "    <tr style=\"text-align: right;\">\n",
       "      <th></th>\n",
       "      <th>세종 제외 INDEX</th>\n",
       "      <th>세종 제외 Predict</th>\n",
       "    </tr>\n",
       "  </thead>\n",
       "  <tbody>\n",
       "    <tr>\n",
       "      <th>0</th>\n",
       "      <td>0</td>\n",
       "      <td>766.040000</td>\n",
       "    </tr>\n",
       "    <tr>\n",
       "      <th>1</th>\n",
       "      <td>1</td>\n",
       "      <td>1290.130000</td>\n",
       "    </tr>\n",
       "    <tr>\n",
       "      <th>2</th>\n",
       "      <td>2</td>\n",
       "      <td>558.040000</td>\n",
       "    </tr>\n",
       "    <tr>\n",
       "      <th>3</th>\n",
       "      <td>3</td>\n",
       "      <td>541.890000</td>\n",
       "    </tr>\n",
       "    <tr>\n",
       "      <th>4</th>\n",
       "      <td>4</td>\n",
       "      <td>1166.840000</td>\n",
       "    </tr>\n",
       "    <tr>\n",
       "      <th>...</th>\n",
       "      <td>...</td>\n",
       "      <td>...</td>\n",
       "    </tr>\n",
       "    <tr>\n",
       "      <th>142</th>\n",
       "      <td>145</td>\n",
       "      <td>251.360000</td>\n",
       "    </tr>\n",
       "    <tr>\n",
       "      <th>143</th>\n",
       "      <td>146</td>\n",
       "      <td>497.660000</td>\n",
       "    </tr>\n",
       "    <tr>\n",
       "      <th>144</th>\n",
       "      <td>147</td>\n",
       "      <td>35.440000</td>\n",
       "    </tr>\n",
       "    <tr>\n",
       "      <th>145</th>\n",
       "      <td>148</td>\n",
       "      <td>467.330000</td>\n",
       "    </tr>\n",
       "    <tr>\n",
       "      <th>146</th>\n",
       "      <td>149</td>\n",
       "      <td>261.730000</td>\n",
       "    </tr>\n",
       "  </tbody>\n",
       "</table>\n",
       "<p>147 rows × 2 columns</p>\n",
       "</div>"
      ],
      "text/plain": [
       "     세종 제외 INDEX  세종 제외 Predict\n",
       "0              0     766.040000\n",
       "1              1    1290.130000\n",
       "2              2     558.040000\n",
       "3              3     541.890000\n",
       "4              4    1166.840000\n",
       "..           ...            ...\n",
       "142          145     251.360000\n",
       "143          146     497.660000\n",
       "144          147      35.440000\n",
       "145          148     467.330000\n",
       "146          149     261.730000\n",
       "\n",
       "[147 rows x 2 columns]"
      ]
     },
     "execution_count": 194,
     "metadata": {},
     "output_type": "execute_result"
    }
   ],
   "source": [
    "dic = {'세종 제외 INDEX':other_idx, '세종 제외 Predict':pred_other}\n",
    "other_df = pd.DataFrame(dic)\n",
    "other_df"
   ]
  },
  {
   "cell_type": "markdown",
   "id": "744fd7bd",
   "metadata": {},
   "source": [
    "# Submission에 예측값 입력"
   ]
  },
  {
   "cell_type": "code",
   "execution_count": 195,
   "id": "552fd176",
   "metadata": {
    "ExecuteTime": {
     "end_time": "2021-07-16T13:42:57.912175Z",
     "start_time": "2021-07-16T13:42:57.897121Z"
    }
   },
   "outputs": [],
   "source": [
    "submission.loc[sejong_idx, 'num'] = pred_sejong\n",
    "submission.loc[other_idx, 'num'] = pred_other"
   ]
  },
  {
   "cell_type": "markdown",
   "id": "0ee312da",
   "metadata": {},
   "source": [
    "# Nan 값 확인"
   ]
  },
  {
   "cell_type": "code",
   "execution_count": 196,
   "id": "b28c81c6",
   "metadata": {
    "ExecuteTime": {
     "end_time": "2021-07-16T13:42:57.926214Z",
     "start_time": "2021-07-16T13:42:57.913129Z"
    }
   },
   "outputs": [
    {
     "data": {
      "text/plain": [
       "code    0\n",
       "num     0\n",
       "dtype: int64"
      ]
     },
     "execution_count": 196,
     "metadata": {},
     "output_type": "execute_result"
    }
   ],
   "source": [
    "submission.isnull().sum()"
   ]
  },
  {
   "cell_type": "code",
   "execution_count": 197,
   "id": "403a84a9",
   "metadata": {
    "ExecuteTime": {
     "end_time": "2021-07-16T13:42:57.941347Z",
     "start_time": "2021-07-16T13:42:57.927385Z"
    }
   },
   "outputs": [
    {
     "data": {
      "text/html": [
       "<div>\n",
       "<style scoped>\n",
       "    .dataframe tbody tr th:only-of-type {\n",
       "        vertical-align: middle;\n",
       "    }\n",
       "\n",
       "    .dataframe tbody tr th {\n",
       "        vertical-align: top;\n",
       "    }\n",
       "\n",
       "    .dataframe thead th {\n",
       "        text-align: right;\n",
       "    }\n",
       "</style>\n",
       "<table border=\"1\" class=\"dataframe\">\n",
       "  <thead>\n",
       "    <tr style=\"text-align: right;\">\n",
       "      <th></th>\n",
       "      <th>code</th>\n",
       "      <th>num</th>\n",
       "    </tr>\n",
       "  </thead>\n",
       "  <tbody>\n",
       "    <tr>\n",
       "      <th>0</th>\n",
       "      <td>C1072</td>\n",
       "      <td>766.040000</td>\n",
       "    </tr>\n",
       "    <tr>\n",
       "      <th>1</th>\n",
       "      <td>C1128</td>\n",
       "      <td>1290.130000</td>\n",
       "    </tr>\n",
       "    <tr>\n",
       "      <th>2</th>\n",
       "      <td>C1456</td>\n",
       "      <td>558.040000</td>\n",
       "    </tr>\n",
       "    <tr>\n",
       "      <th>3</th>\n",
       "      <td>C1840</td>\n",
       "      <td>541.890000</td>\n",
       "    </tr>\n",
       "    <tr>\n",
       "      <th>4</th>\n",
       "      <td>C1332</td>\n",
       "      <td>1166.840000</td>\n",
       "    </tr>\n",
       "    <tr>\n",
       "      <th>...</th>\n",
       "      <td>...</td>\n",
       "      <td>...</td>\n",
       "    </tr>\n",
       "    <tr>\n",
       "      <th>145</th>\n",
       "      <td>C2456</td>\n",
       "      <td>251.360000</td>\n",
       "    </tr>\n",
       "    <tr>\n",
       "      <th>146</th>\n",
       "      <td>C1266</td>\n",
       "      <td>497.660000</td>\n",
       "    </tr>\n",
       "    <tr>\n",
       "      <th>147</th>\n",
       "      <td>C2152</td>\n",
       "      <td>35.440000</td>\n",
       "    </tr>\n",
       "    <tr>\n",
       "      <th>148</th>\n",
       "      <td>C1267</td>\n",
       "      <td>467.330000</td>\n",
       "    </tr>\n",
       "    <tr>\n",
       "      <th>149</th>\n",
       "      <td>C2189</td>\n",
       "      <td>261.730000</td>\n",
       "    </tr>\n",
       "  </tbody>\n",
       "</table>\n",
       "<p>150 rows × 2 columns</p>\n",
       "</div>"
      ],
      "text/plain": [
       "      code         num\n",
       "0    C1072  766.040000\n",
       "1    C1128 1290.130000\n",
       "2    C1456  558.040000\n",
       "3    C1840  541.890000\n",
       "4    C1332 1166.840000\n",
       "..     ...         ...\n",
       "145  C2456  251.360000\n",
       "146  C1266  497.660000\n",
       "147  C2152   35.440000\n",
       "148  C1267  467.330000\n",
       "149  C2189  261.730000\n",
       "\n",
       "[150 rows x 2 columns]"
      ]
     },
     "execution_count": 197,
     "metadata": {},
     "output_type": "execute_result"
    }
   ],
   "source": [
    "submission"
   ]
  },
  {
   "cell_type": "code",
   "execution_count": 198,
   "id": "f5ce95c9",
   "metadata": {
    "ExecuteTime": {
     "end_time": "2021-07-16T13:42:57.957278Z",
     "start_time": "2021-07-16T13:42:57.942347Z"
    },
    "id": "f5ce95c9"
   },
   "outputs": [],
   "source": [
    "# submission['num'] = pred"
   ]
  },
  {
   "cell_type": "code",
   "execution_count": 199,
   "id": "4c1491a5",
   "metadata": {
    "ExecuteTime": {
     "end_time": "2021-07-16T13:42:57.972667Z",
     "start_time": "2021-07-16T13:42:57.958277Z"
    },
    "id": "4c1491a5"
   },
   "outputs": [],
   "source": [
    "# submission.to_csv('baseline.csv', index=False)"
   ]
  }
 ],
 "metadata": {
  "colab": {
   "collapsed_sections": [],
   "name": "Lastest_주차 수요 예측(제출).ipynb",
   "provenance": []
  },
  "kernelspec": {
   "display_name": "Python 3",
   "language": "python",
   "name": "python3"
  },
  "language_info": {
   "codemirror_mode": {
    "name": "ipython",
    "version": 3
   },
   "file_extension": ".py",
   "mimetype": "text/x-python",
   "name": "python",
   "nbconvert_exporter": "python",
   "pygments_lexer": "ipython3",
   "version": "3.7.10"
  },
  "toc": {
   "base_numbering": 1,
   "nav_menu": {},
   "number_sections": true,
   "sideBar": true,
   "skip_h1_title": false,
   "title_cell": "Table of Contents",
   "title_sidebar": "Contents",
   "toc_cell": false,
   "toc_position": {},
   "toc_section_display": true,
   "toc_window_display": false
  },
  "varInspector": {
   "cols": {
    "lenName": 16,
    "lenType": 16,
    "lenVar": 40
   },
   "kernels_config": {
    "python": {
     "delete_cmd_postfix": "",
     "delete_cmd_prefix": "del ",
     "library": "var_list.py",
     "varRefreshCmd": "print(var_dic_list())"
    },
    "r": {
     "delete_cmd_postfix": ") ",
     "delete_cmd_prefix": "rm(",
     "library": "var_list.r",
     "varRefreshCmd": "cat(var_dic_list()) "
    }
   },
   "types_to_exclude": [
    "module",
    "function",
    "builtin_function_or_method",
    "instance",
    "_Feature"
   ],
   "window_display": false
  }
 },
 "nbformat": 4,
 "nbformat_minor": 5
}

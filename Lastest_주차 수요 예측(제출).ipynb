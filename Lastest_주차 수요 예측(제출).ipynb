{
 "cells": [
  {
   "cell_type": "code",
   "execution_count": 1,
   "id": "fde9e222",
   "metadata": {
    "ExecuteTime": {
     "end_time": "2021-07-15T11:45:25.963769Z",
     "start_time": "2021-07-15T11:45:25.955735Z"
    },
    "executionInfo": {
     "elapsed": 1506,
     "status": "ok",
     "timestamp": 1626418405988,
     "user": {
      "displayName": "박재완",
      "photoUrl": "",
      "userId": "18327523315282194311"
     },
     "user_tz": -540
    },
    "id": "fde9e222"
   },
   "outputs": [],
   "source": [
    "import pandas as pd\n",
    "import numpy as np\n",
    "from sklearn.ensemble import RandomForestRegressor\n",
    "from tqdm import tqdm\n",
    "pd.options.display.float_format = '{:.5f}'.format"
   ]
  },
  {
   "cell_type": "markdown",
   "id": "8371ff54",
   "metadata": {
    "id": "8371ff54"
   },
   "source": [
    "# 데이터 불러오기"
   ]
  },
  {
   "cell_type": "code",
   "execution_count": 2,
   "id": "cdbae582",
   "metadata": {},
   "outputs": [],
   "source": [
    "train = pd.read_csv('data/train.csv')\n",
    "test = pd.read_csv('data/test.csv')\n",
    "car_2020 = pd.read_csv('data/car_2020.csv',encoding='cp949')\n",
    "age = pd.read_csv('data/age_gender_info.csv')\n",
    "submission = pd.read_csv('data/sample_submission.csv')"
   ]
  },
  {
   "cell_type": "code",
   "execution_count": 3,
   "id": "bd30f0bf",
   "metadata": {},
   "outputs": [
    {
     "data": {
      "text/html": [
       "<div>\n",
       "<style scoped>\n",
       "    .dataframe tbody tr th:only-of-type {\n",
       "        vertical-align: middle;\n",
       "    }\n",
       "\n",
       "    .dataframe tbody tr th {\n",
       "        vertical-align: top;\n",
       "    }\n",
       "\n",
       "    .dataframe thead th {\n",
       "        text-align: right;\n",
       "    }\n",
       "</style>\n",
       "<table border=\"1\" class=\"dataframe\">\n",
       "  <thead>\n",
       "    <tr style=\"text-align: right;\">\n",
       "      <th></th>\n",
       "      <th>단지코드</th>\n",
       "      <th>총세대수</th>\n",
       "      <th>임대건물구분</th>\n",
       "      <th>지역</th>\n",
       "      <th>공급유형</th>\n",
       "      <th>전용면적</th>\n",
       "      <th>전용면적별세대수</th>\n",
       "      <th>공가수</th>\n",
       "      <th>자격유형</th>\n",
       "      <th>임대보증금</th>\n",
       "      <th>임대료</th>\n",
       "      <th>도보 10분거리 내 지하철역 수(환승노선 수 반영)</th>\n",
       "      <th>도보 10분거리 내 버스정류장 수</th>\n",
       "      <th>단지내주차면수</th>\n",
       "      <th>등록차량수</th>\n",
       "    </tr>\n",
       "  </thead>\n",
       "  <tbody>\n",
       "    <tr>\n",
       "      <th>0</th>\n",
       "      <td>C2483</td>\n",
       "      <td>900</td>\n",
       "      <td>아파트</td>\n",
       "      <td>경상북도</td>\n",
       "      <td>국민임대</td>\n",
       "      <td>39.72000</td>\n",
       "      <td>134</td>\n",
       "      <td>38.00000</td>\n",
       "      <td>A</td>\n",
       "      <td>15667000</td>\n",
       "      <td>103680</td>\n",
       "      <td>0.00000</td>\n",
       "      <td>3.00000</td>\n",
       "      <td>1425.00000</td>\n",
       "      <td>1015.00000</td>\n",
       "    </tr>\n",
       "    <tr>\n",
       "      <th>1</th>\n",
       "      <td>C2483</td>\n",
       "      <td>900</td>\n",
       "      <td>아파트</td>\n",
       "      <td>경상북도</td>\n",
       "      <td>국민임대</td>\n",
       "      <td>39.72000</td>\n",
       "      <td>15</td>\n",
       "      <td>38.00000</td>\n",
       "      <td>A</td>\n",
       "      <td>15667000</td>\n",
       "      <td>103680</td>\n",
       "      <td>0.00000</td>\n",
       "      <td>3.00000</td>\n",
       "      <td>1425.00000</td>\n",
       "      <td>1015.00000</td>\n",
       "    </tr>\n",
       "    <tr>\n",
       "      <th>2</th>\n",
       "      <td>C2483</td>\n",
       "      <td>900</td>\n",
       "      <td>아파트</td>\n",
       "      <td>경상북도</td>\n",
       "      <td>국민임대</td>\n",
       "      <td>51.93000</td>\n",
       "      <td>385</td>\n",
       "      <td>38.00000</td>\n",
       "      <td>A</td>\n",
       "      <td>27304000</td>\n",
       "      <td>184330</td>\n",
       "      <td>0.00000</td>\n",
       "      <td>3.00000</td>\n",
       "      <td>1425.00000</td>\n",
       "      <td>1015.00000</td>\n",
       "    </tr>\n",
       "    <tr>\n",
       "      <th>3</th>\n",
       "      <td>C2483</td>\n",
       "      <td>900</td>\n",
       "      <td>아파트</td>\n",
       "      <td>경상북도</td>\n",
       "      <td>국민임대</td>\n",
       "      <td>51.93000</td>\n",
       "      <td>15</td>\n",
       "      <td>38.00000</td>\n",
       "      <td>A</td>\n",
       "      <td>27304000</td>\n",
       "      <td>184330</td>\n",
       "      <td>0.00000</td>\n",
       "      <td>3.00000</td>\n",
       "      <td>1425.00000</td>\n",
       "      <td>1015.00000</td>\n",
       "    </tr>\n",
       "    <tr>\n",
       "      <th>4</th>\n",
       "      <td>C2483</td>\n",
       "      <td>900</td>\n",
       "      <td>아파트</td>\n",
       "      <td>경상북도</td>\n",
       "      <td>국민임대</td>\n",
       "      <td>51.93000</td>\n",
       "      <td>41</td>\n",
       "      <td>38.00000</td>\n",
       "      <td>A</td>\n",
       "      <td>27304000</td>\n",
       "      <td>184330</td>\n",
       "      <td>0.00000</td>\n",
       "      <td>3.00000</td>\n",
       "      <td>1425.00000</td>\n",
       "      <td>1015.00000</td>\n",
       "    </tr>\n",
       "  </tbody>\n",
       "</table>\n",
       "</div>"
      ],
      "text/plain": [
       "    단지코드  총세대수 임대건물구분    지역  공급유형     전용면적  전용면적별세대수      공가수 자격유형     임대보증금  \\\n",
       "0  C2483   900    아파트  경상북도  국민임대 39.72000       134 38.00000    A  15667000   \n",
       "1  C2483   900    아파트  경상북도  국민임대 39.72000        15 38.00000    A  15667000   \n",
       "2  C2483   900    아파트  경상북도  국민임대 51.93000       385 38.00000    A  27304000   \n",
       "3  C2483   900    아파트  경상북도  국민임대 51.93000        15 38.00000    A  27304000   \n",
       "4  C2483   900    아파트  경상북도  국민임대 51.93000        41 38.00000    A  27304000   \n",
       "\n",
       "      임대료  도보 10분거리 내 지하철역 수(환승노선 수 반영)  도보 10분거리 내 버스정류장 수    단지내주차면수  \\\n",
       "0  103680                       0.00000             3.00000 1425.00000   \n",
       "1  103680                       0.00000             3.00000 1425.00000   \n",
       "2  184330                       0.00000             3.00000 1425.00000   \n",
       "3  184330                       0.00000             3.00000 1425.00000   \n",
       "4  184330                       0.00000             3.00000 1425.00000   \n",
       "\n",
       "       등록차량수  \n",
       "0 1015.00000  \n",
       "1 1015.00000  \n",
       "2 1015.00000  \n",
       "3 1015.00000  \n",
       "4 1015.00000  "
      ]
     },
     "execution_count": 3,
     "metadata": {},
     "output_type": "execute_result"
    }
   ],
   "source": [
    "train.head()"
   ]
  },
  {
   "cell_type": "code",
   "execution_count": 4,
   "id": "52782b4b",
   "metadata": {},
   "outputs": [],
   "source": [
    "train['총세대수'] = np.log(train['총세대수'])"
   ]
  },
  {
   "cell_type": "code",
   "execution_count": 5,
   "id": "9c5fc506",
   "metadata": {},
   "outputs": [
    {
     "data": {
      "text/plain": [
       "2572    46\n",
       "1161    31\n",
       "1021    27\n",
       "1505    27\n",
       "627     25\n",
       "        ..\n",
       "656      2\n",
       "638      2\n",
       "558      2\n",
       "420      2\n",
       "494      2\n",
       "Name: 총세대수, Length: 144, dtype: int64"
      ]
     },
     "execution_count": 5,
     "metadata": {},
     "output_type": "execute_result"
    }
   ],
   "source": [
    "test['총세대수'].value_counts()"
   ]
  },
  {
   "cell_type": "code",
   "execution_count": 6,
   "id": "f1e37a5f",
   "metadata": {
    "ExecuteTime": {
     "end_time": "2021-07-15T11:45:53.561453Z",
     "start_time": "2021-07-15T11:45:53.537451Z"
    },
    "colab": {
     "base_uri": "https://localhost:8080/",
     "height": 304
    },
    "executionInfo": {
     "elapsed": 5,
     "status": "ok",
     "timestamp": 1626418558381,
     "user": {
      "displayName": "박재완",
      "photoUrl": "",
      "userId": "18327523315282194311"
     },
     "user_tz": -540
    },
    "id": "f1e37a5f",
    "outputId": "6264b7c4-7c8e-4ae1-8dc3-a04baa1af3e8"
   },
   "outputs": [
    {
     "data": {
      "text/html": [
       "<div>\n",
       "<style scoped>\n",
       "    .dataframe tbody tr th:only-of-type {\n",
       "        vertical-align: middle;\n",
       "    }\n",
       "\n",
       "    .dataframe tbody tr th {\n",
       "        vertical-align: top;\n",
       "    }\n",
       "\n",
       "    .dataframe thead th {\n",
       "        text-align: right;\n",
       "    }\n",
       "</style>\n",
       "<table border=\"1\" class=\"dataframe\">\n",
       "  <thead>\n",
       "    <tr style=\"text-align: right;\">\n",
       "      <th></th>\n",
       "      <th>단지코드</th>\n",
       "      <th>총세대수</th>\n",
       "      <th>임대건물구분</th>\n",
       "      <th>지역</th>\n",
       "      <th>공급유형</th>\n",
       "      <th>전용면적</th>\n",
       "      <th>전용면적별세대수</th>\n",
       "      <th>공가수</th>\n",
       "      <th>자격유형</th>\n",
       "      <th>임대보증금</th>\n",
       "      <th>임대료</th>\n",
       "      <th>도보 10분거리 내 지하철역 수(환승노선 수 반영)</th>\n",
       "      <th>도보 10분거리 내 버스정류장 수</th>\n",
       "      <th>단지내주차면수</th>\n",
       "      <th>등록차량수</th>\n",
       "    </tr>\n",
       "  </thead>\n",
       "  <tbody>\n",
       "    <tr>\n",
       "      <th>0</th>\n",
       "      <td>C2483</td>\n",
       "      <td>6.80239</td>\n",
       "      <td>아파트</td>\n",
       "      <td>경상북도</td>\n",
       "      <td>국민임대</td>\n",
       "      <td>39.72000</td>\n",
       "      <td>134</td>\n",
       "      <td>38.00000</td>\n",
       "      <td>A</td>\n",
       "      <td>15667000</td>\n",
       "      <td>103680</td>\n",
       "      <td>0.00000</td>\n",
       "      <td>3.00000</td>\n",
       "      <td>1425.00000</td>\n",
       "      <td>1015.00000</td>\n",
       "    </tr>\n",
       "    <tr>\n",
       "      <th>1</th>\n",
       "      <td>C2483</td>\n",
       "      <td>6.80239</td>\n",
       "      <td>아파트</td>\n",
       "      <td>경상북도</td>\n",
       "      <td>국민임대</td>\n",
       "      <td>39.72000</td>\n",
       "      <td>15</td>\n",
       "      <td>38.00000</td>\n",
       "      <td>A</td>\n",
       "      <td>15667000</td>\n",
       "      <td>103680</td>\n",
       "      <td>0.00000</td>\n",
       "      <td>3.00000</td>\n",
       "      <td>1425.00000</td>\n",
       "      <td>1015.00000</td>\n",
       "    </tr>\n",
       "    <tr>\n",
       "      <th>2</th>\n",
       "      <td>C2483</td>\n",
       "      <td>6.80239</td>\n",
       "      <td>아파트</td>\n",
       "      <td>경상북도</td>\n",
       "      <td>국민임대</td>\n",
       "      <td>51.93000</td>\n",
       "      <td>385</td>\n",
       "      <td>38.00000</td>\n",
       "      <td>A</td>\n",
       "      <td>27304000</td>\n",
       "      <td>184330</td>\n",
       "      <td>0.00000</td>\n",
       "      <td>3.00000</td>\n",
       "      <td>1425.00000</td>\n",
       "      <td>1015.00000</td>\n",
       "    </tr>\n",
       "    <tr>\n",
       "      <th>3</th>\n",
       "      <td>C2483</td>\n",
       "      <td>6.80239</td>\n",
       "      <td>아파트</td>\n",
       "      <td>경상북도</td>\n",
       "      <td>국민임대</td>\n",
       "      <td>51.93000</td>\n",
       "      <td>15</td>\n",
       "      <td>38.00000</td>\n",
       "      <td>A</td>\n",
       "      <td>27304000</td>\n",
       "      <td>184330</td>\n",
       "      <td>0.00000</td>\n",
       "      <td>3.00000</td>\n",
       "      <td>1425.00000</td>\n",
       "      <td>1015.00000</td>\n",
       "    </tr>\n",
       "    <tr>\n",
       "      <th>4</th>\n",
       "      <td>C2483</td>\n",
       "      <td>6.80239</td>\n",
       "      <td>아파트</td>\n",
       "      <td>경상북도</td>\n",
       "      <td>국민임대</td>\n",
       "      <td>51.93000</td>\n",
       "      <td>41</td>\n",
       "      <td>38.00000</td>\n",
       "      <td>A</td>\n",
       "      <td>27304000</td>\n",
       "      <td>184330</td>\n",
       "      <td>0.00000</td>\n",
       "      <td>3.00000</td>\n",
       "      <td>1425.00000</td>\n",
       "      <td>1015.00000</td>\n",
       "    </tr>\n",
       "  </tbody>\n",
       "</table>\n",
       "</div>"
      ],
      "text/plain": [
       "    단지코드    총세대수 임대건물구분    지역  공급유형     전용면적  전용면적별세대수      공가수 자격유형  \\\n",
       "0  C2483 6.80239    아파트  경상북도  국민임대 39.72000       134 38.00000    A   \n",
       "1  C2483 6.80239    아파트  경상북도  국민임대 39.72000        15 38.00000    A   \n",
       "2  C2483 6.80239    아파트  경상북도  국민임대 51.93000       385 38.00000    A   \n",
       "3  C2483 6.80239    아파트  경상북도  국민임대 51.93000        15 38.00000    A   \n",
       "4  C2483 6.80239    아파트  경상북도  국민임대 51.93000        41 38.00000    A   \n",
       "\n",
       "      임대보증금     임대료  도보 10분거리 내 지하철역 수(환승노선 수 반영)  도보 10분거리 내 버스정류장 수  \\\n",
       "0  15667000  103680                       0.00000             3.00000   \n",
       "1  15667000  103680                       0.00000             3.00000   \n",
       "2  27304000  184330                       0.00000             3.00000   \n",
       "3  27304000  184330                       0.00000             3.00000   \n",
       "4  27304000  184330                       0.00000             3.00000   \n",
       "\n",
       "     단지내주차면수      등록차량수  \n",
       "0 1425.00000 1015.00000  \n",
       "1 1425.00000 1015.00000  \n",
       "2 1425.00000 1015.00000  \n",
       "3 1425.00000 1015.00000  \n",
       "4 1425.00000 1015.00000  "
      ]
     },
     "execution_count": 6,
     "metadata": {},
     "output_type": "execute_result"
    }
   ],
   "source": [
    "train.head()"
   ]
  },
  {
   "cell_type": "markdown",
   "id": "e86a3249",
   "metadata": {
    "id": "e86a3249"
   },
   "source": [
    "car_2020 = car_2020.drop(['시군구(1)'], axis=1)\n",
    "car_2020.columns = ['지역','월','항목','분류','자동차수']\n",
    "car_2020['월'] = pd.to_datetime(car_2020['월']).dt.month\n",
    "car_2020.head()"
   ]
  },
  {
   "cell_type": "code",
   "execution_count": 7,
   "id": "4fefe6c1",
   "metadata": {
    "ExecuteTime": {
     "end_time": "2021-07-15T11:45:55.134924Z",
     "start_time": "2021-07-15T11:45:55.110869Z"
    },
    "colab": {
     "base_uri": "https://localhost:8080/"
    },
    "executionInfo": {
     "elapsed": 389,
     "status": "ok",
     "timestamp": 1626418565007,
     "user": {
      "displayName": "박재완",
      "photoUrl": "",
      "userId": "18327523315282194311"
     },
     "user_tz": -540
    },
    "id": "4fefe6c1",
    "outputId": "068c43ca-50b8-4e1a-e11c-f9fe9a2933cd"
   },
   "outputs": [
    {
     "data": {
      "text/plain": [
       "단지코드                              0\n",
       "총세대수                              0\n",
       "임대건물구분                            0\n",
       "지역                                0\n",
       "공급유형                              0\n",
       "전용면적                              0\n",
       "전용면적별세대수                          0\n",
       "공가수                               0\n",
       "자격유형                              0\n",
       "임대보증금                           569\n",
       "임대료                             569\n",
       "도보 10분거리 내 지하철역 수(환승노선 수 반영)    211\n",
       "도보 10분거리 내 버스정류장 수                4\n",
       "단지내주차면수                           0\n",
       "등록차량수                             0\n",
       "dtype: int64"
      ]
     },
     "execution_count": 7,
     "metadata": {},
     "output_type": "execute_result"
    }
   ],
   "source": [
    "train.isnull().sum()"
   ]
  },
  {
   "cell_type": "markdown",
   "id": "ffbee22f",
   "metadata": {
    "id": "ffbee22f"
   },
   "source": [
    "# 컬렴명 바꿔주기"
   ]
  },
  {
   "cell_type": "code",
   "execution_count": 8,
   "id": "8a1e4b55",
   "metadata": {
    "ExecuteTime": {
     "end_time": "2021-07-15T11:45:57.478749Z",
     "start_time": "2021-07-15T11:45:57.470744Z"
    },
    "executionInfo": {
     "elapsed": 384,
     "status": "ok",
     "timestamp": 1626418569160,
     "user": {
      "displayName": "박재완",
      "photoUrl": "",
      "userId": "18327523315282194311"
     },
     "user_tz": -540
    },
    "id": "8a1e4b55"
   },
   "outputs": [],
   "source": [
    "train.columns = [\n",
    "    '단지코드', '총세대수', '임대건물구분', '지역', '공급유형', '전용면적', '전용면적별세대수', '공가수', '신분',\n",
    "    '임대보증금', '임대료', '지하철', '버스',\n",
    "    '단지내주차면수', '등록차량수'\n",
    "]\n"
   ]
  },
  {
   "cell_type": "markdown",
   "id": "a2ee7ec0",
   "metadata": {
    "id": "a2ee7ec0"
   },
   "source": [
    "# 지하철 Y or N로 변경"
   ]
  },
  {
   "cell_type": "code",
   "execution_count": 9,
   "id": "d4ea84cb",
   "metadata": {
    "ExecuteTime": {
     "end_time": "2021-07-15T11:45:59.573979Z",
     "start_time": "2021-07-15T11:45:59.565851Z"
    },
    "executionInfo": {
     "elapsed": 478,
     "status": "ok",
     "timestamp": 1626418571230,
     "user": {
      "displayName": "박재완",
      "photoUrl": "",
      "userId": "18327523315282194311"
     },
     "user_tz": -540
    },
    "id": "d4ea84cb"
   },
   "outputs": [],
   "source": [
    "train['지하철'] = train['지하철'].fillna(0)\n",
    "train['지하철'] = np.where(train['지하철'] == 0, 0, 1)"
   ]
  },
  {
   "cell_type": "markdown",
   "id": "13db3682",
   "metadata": {
    "id": "13db3682"
   },
   "source": [
    "# 결측치 처리"
   ]
  },
  {
   "cell_type": "code",
   "execution_count": 10,
   "id": "6c2a944b",
   "metadata": {
    "ExecuteTime": {
     "end_time": "2021-07-15T11:46:00.721819Z",
     "start_time": "2021-07-15T11:46:00.705805Z"
    },
    "executionInfo": {
     "elapsed": 398,
     "status": "ok",
     "timestamp": 1626418574070,
     "user": {
      "displayName": "박재완",
      "photoUrl": "",
      "userId": "18327523315282194311"
     },
     "user_tz": -540
    },
    "id": "6c2a944b"
   },
   "outputs": [],
   "source": [
    "train.loc[train.임대보증금=='-', '임대보증금'] = np.nan\n",
    "train.loc[train.임대료=='-', '임대료'] = np.nan\n",
    "train['임대보증금'] = train['임대보증금'].astype(float)\n",
    "train['임대료'] = train['임대료'].astype(float)\n",
    "train['임대보증금'] = train['임대보증금'].fillna(0)\n",
    "train['임대료'] = train['임대료'].fillna(0)"
   ]
  },
  {
   "cell_type": "code",
   "execution_count": 11,
   "id": "2ca7b917",
   "metadata": {
    "ExecuteTime": {
     "end_time": "2021-07-15T11:46:02.655127Z",
     "start_time": "2021-07-15T11:46:02.647096Z"
    },
    "executionInfo": {
     "elapsed": 2,
     "status": "ok",
     "timestamp": 1626418574586,
     "user": {
      "displayName": "박재완",
      "photoUrl": "",
      "userId": "18327523315282194311"
     },
     "user_tz": -540
    },
    "id": "2ca7b917"
   },
   "outputs": [],
   "source": [
    "train['버스'] = train['버스'].fillna(train['버스'].mean())"
   ]
  },
  {
   "cell_type": "code",
   "execution_count": 12,
   "id": "16c3883b",
   "metadata": {
    "ExecuteTime": {
     "end_time": "2021-07-15T11:46:03.900464Z",
     "start_time": "2021-07-15T11:46:03.876432Z"
    },
    "colab": {
     "base_uri": "https://localhost:8080/"
    },
    "executionInfo": {
     "elapsed": 2,
     "status": "ok",
     "timestamp": 1626418575081,
     "user": {
      "displayName": "박재완",
      "photoUrl": "",
      "userId": "18327523315282194311"
     },
     "user_tz": -540
    },
    "id": "16c3883b",
    "outputId": "2b56c843-4486-444f-90e1-7352f950553d"
   },
   "outputs": [
    {
     "data": {
      "text/plain": [
       "단지코드        0\n",
       "총세대수        0\n",
       "임대건물구분      0\n",
       "지역          0\n",
       "공급유형        0\n",
       "전용면적        0\n",
       "전용면적별세대수    0\n",
       "공가수         0\n",
       "신분          0\n",
       "임대보증금       0\n",
       "임대료         0\n",
       "지하철         0\n",
       "버스          0\n",
       "단지내주차면수     0\n",
       "등록차량수       0\n",
       "dtype: int64"
      ]
     },
     "execution_count": 12,
     "metadata": {},
     "output_type": "execute_result"
    }
   ],
   "source": [
    "train.isnull().sum()"
   ]
  },
  {
   "cell_type": "markdown",
   "id": "003a226b",
   "metadata": {
    "id": "003a226b"
   },
   "source": [
    "# 임대건물구분 : 아파트->상가 / 전용면적별세대수 : x->1"
   ]
  },
  {
   "cell_type": "code",
   "execution_count": 13,
   "id": "7eac904f",
   "metadata": {
    "ExecuteTime": {
     "end_time": "2021-07-15T11:50:00.680244Z",
     "start_time": "2021-07-15T11:50:00.656245Z"
    },
    "executionInfo": {
     "elapsed": 2,
     "status": "ok",
     "timestamp": 1626418577250,
     "user": {
      "displayName": "박재완",
      "photoUrl": "",
      "userId": "18327523315282194311"
     },
     "user_tz": -540
    },
    "id": "7eac904f"
   },
   "outputs": [],
   "source": [
    "idx = train[(train['임대건물구분']=='아파트') & (train['신분']=='D')]['전용면적별세대수'].index\n",
    "train.loc[idx, '전용면적별세대수'] = 1\n",
    "train.loc[idx, '임대건물구분'] = '상가'"
   ]
  },
  {
   "cell_type": "code",
   "execution_count": 14,
   "id": "7e32c993",
   "metadata": {
    "ExecuteTime": {
     "end_time": "2021-07-15T11:50:04.812028Z",
     "start_time": "2021-07-15T11:50:04.772028Z"
    },
    "colab": {
     "base_uri": "https://localhost:8080/",
     "height": 417
    },
    "executionInfo": {
     "elapsed": 5,
     "status": "ok",
     "timestamp": 1626418578241,
     "user": {
      "displayName": "박재완",
      "photoUrl": "",
      "userId": "18327523315282194311"
     },
     "user_tz": -540
    },
    "id": "7e32c993",
    "outputId": "2bf4b49c-2806-48b6-824e-45854d10e9fb"
   },
   "outputs": [
    {
     "data": {
      "text/html": [
       "<div>\n",
       "<style scoped>\n",
       "    .dataframe tbody tr th:only-of-type {\n",
       "        vertical-align: middle;\n",
       "    }\n",
       "\n",
       "    .dataframe tbody tr th {\n",
       "        vertical-align: top;\n",
       "    }\n",
       "\n",
       "    .dataframe thead th {\n",
       "        text-align: right;\n",
       "    }\n",
       "</style>\n",
       "<table border=\"1\" class=\"dataframe\">\n",
       "  <thead>\n",
       "    <tr style=\"text-align: right;\">\n",
       "      <th></th>\n",
       "      <th>단지코드</th>\n",
       "      <th>총세대수</th>\n",
       "      <th>임대건물구분</th>\n",
       "      <th>지역</th>\n",
       "      <th>공급유형</th>\n",
       "      <th>전용면적</th>\n",
       "      <th>전용면적별세대수</th>\n",
       "      <th>공가수</th>\n",
       "      <th>신분</th>\n",
       "      <th>임대보증금</th>\n",
       "      <th>임대료</th>\n",
       "      <th>지하철</th>\n",
       "      <th>버스</th>\n",
       "      <th>단지내주차면수</th>\n",
       "      <th>등록차량수</th>\n",
       "    </tr>\n",
       "  </thead>\n",
       "  <tbody>\n",
       "    <tr>\n",
       "      <th>88</th>\n",
       "      <td>C1925</td>\n",
       "      <td>6.39859</td>\n",
       "      <td>상가</td>\n",
       "      <td>강원도</td>\n",
       "      <td>임대상가</td>\n",
       "      <td>32.10000</td>\n",
       "      <td>1</td>\n",
       "      <td>9.00000</td>\n",
       "      <td>D</td>\n",
       "      <td>0.00000</td>\n",
       "      <td>0.00000</td>\n",
       "      <td>0</td>\n",
       "      <td>4.00000</td>\n",
       "      <td>117.00000</td>\n",
       "      <td>75.00000</td>\n",
       "    </tr>\n",
       "    <tr>\n",
       "      <th>89</th>\n",
       "      <td>C1925</td>\n",
       "      <td>6.39859</td>\n",
       "      <td>상가</td>\n",
       "      <td>강원도</td>\n",
       "      <td>임대상가</td>\n",
       "      <td>32.10000</td>\n",
       "      <td>1</td>\n",
       "      <td>9.00000</td>\n",
       "      <td>D</td>\n",
       "      <td>0.00000</td>\n",
       "      <td>0.00000</td>\n",
       "      <td>0</td>\n",
       "      <td>4.00000</td>\n",
       "      <td>117.00000</td>\n",
       "      <td>75.00000</td>\n",
       "    </tr>\n",
       "    <tr>\n",
       "      <th>90</th>\n",
       "      <td>C1925</td>\n",
       "      <td>6.39859</td>\n",
       "      <td>상가</td>\n",
       "      <td>강원도</td>\n",
       "      <td>임대상가</td>\n",
       "      <td>32.10000</td>\n",
       "      <td>1</td>\n",
       "      <td>9.00000</td>\n",
       "      <td>D</td>\n",
       "      <td>0.00000</td>\n",
       "      <td>0.00000</td>\n",
       "      <td>0</td>\n",
       "      <td>4.00000</td>\n",
       "      <td>117.00000</td>\n",
       "      <td>75.00000</td>\n",
       "    </tr>\n",
       "    <tr>\n",
       "      <th>91</th>\n",
       "      <td>C1925</td>\n",
       "      <td>6.39859</td>\n",
       "      <td>상가</td>\n",
       "      <td>강원도</td>\n",
       "      <td>임대상가</td>\n",
       "      <td>72.16000</td>\n",
       "      <td>1</td>\n",
       "      <td>9.00000</td>\n",
       "      <td>D</td>\n",
       "      <td>0.00000</td>\n",
       "      <td>0.00000</td>\n",
       "      <td>0</td>\n",
       "      <td>4.00000</td>\n",
       "      <td>117.00000</td>\n",
       "      <td>75.00000</td>\n",
       "    </tr>\n",
       "    <tr>\n",
       "      <th>101</th>\n",
       "      <td>C1874</td>\n",
       "      <td>6.42811</td>\n",
       "      <td>상가</td>\n",
       "      <td>충청남도</td>\n",
       "      <td>임대상가</td>\n",
       "      <td>12.62000</td>\n",
       "      <td>1</td>\n",
       "      <td>2.00000</td>\n",
       "      <td>D</td>\n",
       "      <td>0.00000</td>\n",
       "      <td>0.00000</td>\n",
       "      <td>0</td>\n",
       "      <td>2.00000</td>\n",
       "      <td>97.00000</td>\n",
       "      <td>62.00000</td>\n",
       "    </tr>\n",
       "    <tr>\n",
       "      <th>...</th>\n",
       "      <td>...</td>\n",
       "      <td>...</td>\n",
       "      <td>...</td>\n",
       "      <td>...</td>\n",
       "      <td>...</td>\n",
       "      <td>...</td>\n",
       "      <td>...</td>\n",
       "      <td>...</td>\n",
       "      <td>...</td>\n",
       "      <td>...</td>\n",
       "      <td>...</td>\n",
       "      <td>...</td>\n",
       "      <td>...</td>\n",
       "      <td>...</td>\n",
       "      <td>...</td>\n",
       "    </tr>\n",
       "    <tr>\n",
       "      <th>2333</th>\n",
       "      <td>C1350</td>\n",
       "      <td>7.24494</td>\n",
       "      <td>상가</td>\n",
       "      <td>대전광역시</td>\n",
       "      <td>공공분양</td>\n",
       "      <td>74.94000</td>\n",
       "      <td>1</td>\n",
       "      <td>2.00000</td>\n",
       "      <td>D</td>\n",
       "      <td>0.00000</td>\n",
       "      <td>0.00000</td>\n",
       "      <td>0</td>\n",
       "      <td>6.00000</td>\n",
       "      <td>1636.00000</td>\n",
       "      <td>2315.00000</td>\n",
       "    </tr>\n",
       "    <tr>\n",
       "      <th>2334</th>\n",
       "      <td>C1350</td>\n",
       "      <td>7.24494</td>\n",
       "      <td>상가</td>\n",
       "      <td>대전광역시</td>\n",
       "      <td>공공분양</td>\n",
       "      <td>84.94000</td>\n",
       "      <td>1</td>\n",
       "      <td>2.00000</td>\n",
       "      <td>D</td>\n",
       "      <td>0.00000</td>\n",
       "      <td>0.00000</td>\n",
       "      <td>0</td>\n",
       "      <td>6.00000</td>\n",
       "      <td>1636.00000</td>\n",
       "      <td>2315.00000</td>\n",
       "    </tr>\n",
       "    <tr>\n",
       "      <th>2335</th>\n",
       "      <td>C1350</td>\n",
       "      <td>7.24494</td>\n",
       "      <td>상가</td>\n",
       "      <td>대전광역시</td>\n",
       "      <td>공공분양</td>\n",
       "      <td>84.94000</td>\n",
       "      <td>1</td>\n",
       "      <td>2.00000</td>\n",
       "      <td>D</td>\n",
       "      <td>0.00000</td>\n",
       "      <td>0.00000</td>\n",
       "      <td>0</td>\n",
       "      <td>6.00000</td>\n",
       "      <td>1636.00000</td>\n",
       "      <td>2315.00000</td>\n",
       "    </tr>\n",
       "    <tr>\n",
       "      <th>2336</th>\n",
       "      <td>C1350</td>\n",
       "      <td>7.24494</td>\n",
       "      <td>상가</td>\n",
       "      <td>대전광역시</td>\n",
       "      <td>공공분양</td>\n",
       "      <td>84.96000</td>\n",
       "      <td>1</td>\n",
       "      <td>2.00000</td>\n",
       "      <td>D</td>\n",
       "      <td>0.00000</td>\n",
       "      <td>0.00000</td>\n",
       "      <td>0</td>\n",
       "      <td>6.00000</td>\n",
       "      <td>1636.00000</td>\n",
       "      <td>2315.00000</td>\n",
       "    </tr>\n",
       "    <tr>\n",
       "      <th>2337</th>\n",
       "      <td>C1350</td>\n",
       "      <td>7.24494</td>\n",
       "      <td>상가</td>\n",
       "      <td>대전광역시</td>\n",
       "      <td>공공분양</td>\n",
       "      <td>84.97000</td>\n",
       "      <td>1</td>\n",
       "      <td>2.00000</td>\n",
       "      <td>D</td>\n",
       "      <td>0.00000</td>\n",
       "      <td>0.00000</td>\n",
       "      <td>0</td>\n",
       "      <td>6.00000</td>\n",
       "      <td>1636.00000</td>\n",
       "      <td>2315.00000</td>\n",
       "    </tr>\n",
       "  </tbody>\n",
       "</table>\n",
       "<p>569 rows × 15 columns</p>\n",
       "</div>"
      ],
      "text/plain": [
       "       단지코드    총세대수 임대건물구분     지역  공급유형     전용면적  전용면적별세대수     공가수 신분   임대보증금  \\\n",
       "88    C1925 6.39859     상가    강원도  임대상가 32.10000         1 9.00000  D 0.00000   \n",
       "89    C1925 6.39859     상가    강원도  임대상가 32.10000         1 9.00000  D 0.00000   \n",
       "90    C1925 6.39859     상가    강원도  임대상가 32.10000         1 9.00000  D 0.00000   \n",
       "91    C1925 6.39859     상가    강원도  임대상가 72.16000         1 9.00000  D 0.00000   \n",
       "101   C1874 6.42811     상가   충청남도  임대상가 12.62000         1 2.00000  D 0.00000   \n",
       "...     ...     ...    ...    ...   ...      ...       ...     ... ..     ...   \n",
       "2333  C1350 7.24494     상가  대전광역시  공공분양 74.94000         1 2.00000  D 0.00000   \n",
       "2334  C1350 7.24494     상가  대전광역시  공공분양 84.94000         1 2.00000  D 0.00000   \n",
       "2335  C1350 7.24494     상가  대전광역시  공공분양 84.94000         1 2.00000  D 0.00000   \n",
       "2336  C1350 7.24494     상가  대전광역시  공공분양 84.96000         1 2.00000  D 0.00000   \n",
       "2337  C1350 7.24494     상가  대전광역시  공공분양 84.97000         1 2.00000  D 0.00000   \n",
       "\n",
       "         임대료  지하철      버스    단지내주차면수      등록차량수  \n",
       "88   0.00000    0 4.00000  117.00000   75.00000  \n",
       "89   0.00000    0 4.00000  117.00000   75.00000  \n",
       "90   0.00000    0 4.00000  117.00000   75.00000  \n",
       "91   0.00000    0 4.00000  117.00000   75.00000  \n",
       "101  0.00000    0 2.00000   97.00000   62.00000  \n",
       "...      ...  ...     ...        ...        ...  \n",
       "2333 0.00000    0 6.00000 1636.00000 2315.00000  \n",
       "2334 0.00000    0 6.00000 1636.00000 2315.00000  \n",
       "2335 0.00000    0 6.00000 1636.00000 2315.00000  \n",
       "2336 0.00000    0 6.00000 1636.00000 2315.00000  \n",
       "2337 0.00000    0 6.00000 1636.00000 2315.00000  \n",
       "\n",
       "[569 rows x 15 columns]"
      ]
     },
     "execution_count": 14,
     "metadata": {},
     "output_type": "execute_result"
    }
   ],
   "source": [
    "train[(train['임대건물구분']=='상가') & (train['신분']=='D')]"
   ]
  },
  {
   "cell_type": "code",
   "execution_count": 15,
   "id": "6802e035",
   "metadata": {
    "executionInfo": {
     "elapsed": 2,
     "status": "ok",
     "timestamp": 1626418579510,
     "user": {
      "displayName": "박재완",
      "photoUrl": "",
      "userId": "18327523315282194311"
     },
     "user_tz": -540
    },
    "id": "6802e035"
   },
   "outputs": [],
   "source": [
    "# 원핫 인코딩\n",
    "#train = pd.get_dummies(data = train, columns = ['지하철'])"
   ]
  },
  {
   "cell_type": "markdown",
   "id": "39d4618c",
   "metadata": {
    "id": "39d4618c"
   },
   "source": [
    "# 지역명 숫자로 매핑"
   ]
  },
  {
   "cell_type": "code",
   "execution_count": 16,
   "id": "8cbf446a",
   "metadata": {
    "ExecuteTime": {
     "end_time": "2021-07-15T11:54:16.123315Z",
     "start_time": "2021-07-15T11:54:16.099516Z"
    },
    "executionInfo": {
     "elapsed": 2,
     "status": "ok",
     "timestamp": 1626418581357,
     "user": {
      "displayName": "박재완",
      "photoUrl": "",
      "userId": "18327523315282194311"
     },
     "user_tz": -540
    },
    "id": "8cbf446a"
   },
   "outputs": [],
   "source": [
    "local_map = {}\n",
    "for i, loc in enumerate(train['지역'].unique()):\n",
    "    local_map[loc] = i\n",
    "    \n",
    "train['지역'] = train['지역'].map(local_map)"
   ]
  },
  {
   "cell_type": "markdown",
   "id": "837efa3b",
   "metadata": {
    "id": "837efa3b"
   },
   "source": [
    "# 전용면적을 5의 배수로 변경"
   ]
  },
  {
   "cell_type": "code",
   "execution_count": 17,
   "id": "fd726145",
   "metadata": {
    "ExecuteTime": {
     "end_time": "2021-07-15T11:54:17.793255Z",
     "start_time": "2021-07-15T11:54:17.785221Z"
    },
    "executionInfo": {
     "elapsed": 508,
     "status": "ok",
     "timestamp": 1626418583646,
     "user": {
      "displayName": "박재완",
      "photoUrl": "",
      "userId": "18327523315282194311"
     },
     "user_tz": -540
    },
    "id": "fd726145"
   },
   "outputs": [],
   "source": [
    "train['전용면적'] = train['전용면적']//5*5"
   ]
  },
  {
   "cell_type": "markdown",
   "id": "e640c287",
   "metadata": {
    "id": "e640c287"
   },
   "source": [
    "# 전용면적 상/하한 적용"
   ]
  },
  {
   "cell_type": "code",
   "execution_count": 18,
   "id": "d4067e14",
   "metadata": {
    "ExecuteTime": {
     "end_time": "2021-07-15T11:54:19.702522Z",
     "start_time": "2021-07-15T11:54:19.694521Z"
    },
    "executionInfo": {
     "elapsed": 1,
     "status": "ok",
     "timestamp": 1626418585010,
     "user": {
      "displayName": "박재완",
      "photoUrl": "",
      "userId": "18327523315282194311"
     },
     "user_tz": -540
    },
    "id": "d4067e14"
   },
   "outputs": [],
   "source": [
    "idx = train[train['전용면적']>100].index\n",
    "train.loc[idx, '전용면적'] = 100\n",
    "\n",
    "idx = train[train['전용면적']<15].index\n",
    "train.loc[idx, '전용면적'] = 15"
   ]
  },
  {
   "cell_type": "code",
   "execution_count": 19,
   "id": "ec4c0fca",
   "metadata": {
    "ExecuteTime": {
     "end_time": "2021-07-15T11:57:47.917018Z",
     "start_time": "2021-07-15T11:57:47.877019Z"
    },
    "colab": {
     "base_uri": "https://localhost:8080/"
    },
    "executionInfo": {
     "elapsed": 2,
     "status": "ok",
     "timestamp": 1626418585498,
     "user": {
      "displayName": "박재완",
      "photoUrl": "",
      "userId": "18327523315282194311"
     },
     "user_tz": -540
    },
    "id": "ec4c0fca",
    "outputId": "726def3f-3bcb-43e7-edea-64fc6d9e002a"
   },
   "outputs": [
    {
     "name": "stdout",
     "output_type": "stream",
     "text": [
      "<class 'pandas.core.frame.DataFrame'>\n",
      "RangeIndex: 2952 entries, 0 to 2951\n",
      "Data columns (total 15 columns):\n",
      " #   Column    Non-Null Count  Dtype  \n",
      "---  ------    --------------  -----  \n",
      " 0   단지코드      2952 non-null   object \n",
      " 1   총세대수      2952 non-null   float64\n",
      " 2   임대건물구분    2952 non-null   object \n",
      " 3   지역        2952 non-null   int64  \n",
      " 4   공급유형      2952 non-null   object \n",
      " 5   전용면적      2952 non-null   float64\n",
      " 6   전용면적별세대수  2952 non-null   int64  \n",
      " 7   공가수       2952 non-null   float64\n",
      " 8   신분        2952 non-null   object \n",
      " 9   임대보증금     2952 non-null   float64\n",
      " 10  임대료       2952 non-null   float64\n",
      " 11  지하철       2952 non-null   int32  \n",
      " 12  버스        2952 non-null   float64\n",
      " 13  단지내주차면수   2952 non-null   float64\n",
      " 14  등록차량수     2952 non-null   float64\n",
      "dtypes: float64(8), int32(1), int64(2), object(4)\n",
      "memory usage: 334.5+ KB\n"
     ]
    }
   ],
   "source": [
    "train.info()"
   ]
  },
  {
   "cell_type": "markdown",
   "id": "300cd409",
   "metadata": {
    "id": "300cd409"
   },
   "source": [
    "# test 불러오기"
   ]
  },
  {
   "cell_type": "code",
   "execution_count": 20,
   "id": "405d1fd7",
   "metadata": {
    "ExecuteTime": {
     "end_time": "2021-07-15T11:54:21.384394Z",
     "start_time": "2021-07-15T11:54:21.368393Z"
    },
    "executionInfo": {
     "elapsed": 424,
     "status": "ok",
     "timestamp": 1626418587986,
     "user": {
      "displayName": "박재완",
      "photoUrl": "",
      "userId": "18327523315282194311"
     },
     "user_tz": -540
    },
    "id": "405d1fd7"
   },
   "outputs": [],
   "source": [
    "test.columns = [\n",
    "    '단지코드', '총세대수', '임대건물구분', '지역', '공급유형', '전용면적', '전용면적별세대수', '공가수', '신분',\n",
    "    '임대보증금', '임대료', '지하철', '버스',\n",
    "    '단지내주차면수'\n",
    "]"
   ]
  },
  {
   "cell_type": "code",
   "execution_count": 21,
   "id": "c6d9caa1",
   "metadata": {
    "ExecuteTime": {
     "end_time": "2021-07-15T11:54:23.328233Z",
     "start_time": "2021-07-15T11:54:23.306223Z"
    },
    "colab": {
     "base_uri": "https://localhost:8080/"
    },
    "executionInfo": {
     "elapsed": 680,
     "status": "ok",
     "timestamp": 1626418589176,
     "user": {
      "displayName": "박재완",
      "photoUrl": "",
      "userId": "18327523315282194311"
     },
     "user_tz": -540
    },
    "id": "c6d9caa1",
    "outputId": "91fabb53-c473-4ee3-cbbe-1afb6fd9dbef"
   },
   "outputs": [
    {
     "data": {
      "text/plain": [
       "단지코드          0\n",
       "총세대수          0\n",
       "임대건물구분        0\n",
       "지역            0\n",
       "공급유형          0\n",
       "전용면적          0\n",
       "전용면적별세대수      0\n",
       "공가수           0\n",
       "신분            2\n",
       "임대보증금       180\n",
       "임대료         180\n",
       "지하철          42\n",
       "버스            0\n",
       "단지내주차면수       0\n",
       "dtype: int64"
      ]
     },
     "execution_count": 21,
     "metadata": {},
     "output_type": "execute_result"
    }
   ],
   "source": [
    "test.isnull().sum()"
   ]
  },
  {
   "cell_type": "code",
   "execution_count": 22,
   "id": "3e5a344d",
   "metadata": {
    "ExecuteTime": {
     "end_time": "2021-07-15T11:54:24.957918Z",
     "start_time": "2021-07-15T11:54:24.941917Z"
    },
    "executionInfo": {
     "elapsed": 394,
     "status": "ok",
     "timestamp": 1626419593919,
     "user": {
      "displayName": "박재완",
      "photoUrl": "",
      "userId": "18327523315282194311"
     },
     "user_tz": -540
    },
    "id": "3e5a344d"
   },
   "outputs": [],
   "source": [
    "test.loc[test.임대보증금=='-', '임대보증금'] = np.nan\n",
    "test.loc[test.임대료=='-', '임대료'] = np.nan\n",
    "test['임대보증금'] = test['임대보증금'].fillna(0)\n",
    "test['임대료'] = test['임대료'].fillna(0)\n",
    "test['임대보증금'] = test['임대보증금'].astype(float)\n",
    "test['임대료'] = test['임대료'].astype(float)"
   ]
  },
  {
   "cell_type": "code",
   "execution_count": 23,
   "id": "6f2a1b5e",
   "metadata": {},
   "outputs": [
    {
     "data": {
      "text/plain": [
       "0.00000    881\n",
       "1.00000     64\n",
       "2.00000     35\n",
       "Name: 지하철, dtype: int64"
      ]
     },
     "execution_count": 23,
     "metadata": {},
     "output_type": "execute_result"
    }
   ],
   "source": [
    "test['지하철'].value_counts()"
   ]
  },
  {
   "cell_type": "code",
   "execution_count": 24,
   "id": "8f296691",
   "metadata": {
    "ExecuteTime": {
     "end_time": "2021-07-15T11:54:26.995144Z",
     "start_time": "2021-07-15T11:54:26.987144Z"
    },
    "executionInfo": {
     "elapsed": 3,
     "status": "ok",
     "timestamp": 1626419594311,
     "user": {
      "displayName": "박재완",
      "photoUrl": "",
      "userId": "18327523315282194311"
     },
     "user_tz": -540
    },
    "id": "8f296691"
   },
   "outputs": [],
   "source": [
    "test['지하철'] = test['지하철'].fillna(0)\n",
    "test['지하철'] = np.where(test['지하철'] == 0, 0, 1)"
   ]
  },
  {
   "cell_type": "code",
   "execution_count": 25,
   "id": "ce2ae6a1",
   "metadata": {
    "ExecuteTime": {
     "end_time": "2021-07-15T11:54:28.243095Z",
     "start_time": "2021-07-15T11:54:28.227129Z"
    },
    "executionInfo": {
     "elapsed": 504,
     "status": "ok",
     "timestamp": 1626419595304,
     "user": {
      "displayName": "박재완",
      "photoUrl": "",
      "userId": "18327523315282194311"
     },
     "user_tz": -540
    },
    "id": "ce2ae6a1"
   },
   "outputs": [],
   "source": [
    "test.loc[test.단지코드.isin(['C2411']) & test.신분.isnull(), '신분'] = 'A'\n",
    "test.loc[test.단지코드.isin(['C2253']) & test.신분.isnull(), '신분'] = 'C'"
   ]
  },
  {
   "cell_type": "code",
   "execution_count": 26,
   "id": "270b6f5f",
   "metadata": {
    "ExecuteTime": {
     "end_time": "2021-07-15T11:59:08.722292Z",
     "start_time": "2021-07-15T11:59:08.714258Z"
    },
    "executionInfo": {
     "elapsed": 2,
     "status": "ok",
     "timestamp": 1626419595305,
     "user": {
      "displayName": "박재완",
      "photoUrl": "",
      "userId": "18327523315282194311"
     },
     "user_tz": -540
    },
    "id": "270b6f5f"
   },
   "outputs": [],
   "source": [
    "local_map = {}\n",
    "for i, loc in enumerate(test['지역'].unique()):\n",
    "    local_map[loc] = i\n",
    "    \n",
    "test['지역'] = test['지역'].map(local_map)"
   ]
  },
  {
   "cell_type": "code",
   "execution_count": 27,
   "id": "kpmRHrwKKLUU",
   "metadata": {
    "executionInfo": {
     "elapsed": 2,
     "status": "ok",
     "timestamp": 1626419595695,
     "user": {
      "displayName": "박재완",
      "photoUrl": "",
      "userId": "18327523315282194311"
     },
     "user_tz": -540
    },
    "id": "kpmRHrwKKLUU"
   },
   "outputs": [],
   "source": [
    "test['전용면적'] = test['전용면적']//5*5\n",
    "\n",
    "idx = test[test['전용면적']>100].index\n",
    "test.loc[idx, '전용면적'] = 100\n",
    "\n",
    "idx = test[test['전용면적']<15].index\n",
    "test.loc[idx, '전용면적'] = 15"
   ]
  },
  {
   "cell_type": "code",
   "execution_count": 28,
   "id": "a2023acd",
   "metadata": {
    "ExecuteTime": {
     "end_time": "2021-07-15T11:54:29.521547Z",
     "start_time": "2021-07-15T11:54:29.513522Z"
    },
    "colab": {
     "base_uri": "https://localhost:8080/"
    },
    "executionInfo": {
     "elapsed": 389,
     "status": "ok",
     "timestamp": 1626419600717,
     "user": {
      "displayName": "박재완",
      "photoUrl": "",
      "userId": "18327523315282194311"
     },
     "user_tz": -540
    },
    "id": "a2023acd",
    "outputId": "616e43e9-57e1-4b1e-d929-f214b8ad0dbe"
   },
   "outputs": [
    {
     "data": {
      "text/plain": [
       "단지코드        0\n",
       "총세대수        0\n",
       "임대건물구분      0\n",
       "지역          0\n",
       "공급유형        0\n",
       "전용면적        0\n",
       "전용면적별세대수    0\n",
       "공가수         0\n",
       "신분          0\n",
       "임대보증금       0\n",
       "임대료         0\n",
       "지하철         0\n",
       "버스          0\n",
       "단지내주차면수     0\n",
       "dtype: int64"
      ]
     },
     "execution_count": 28,
     "metadata": {},
     "output_type": "execute_result"
    }
   ],
   "source": [
    "test.isnull().sum()"
   ]
  },
  {
   "cell_type": "code",
   "execution_count": 29,
   "id": "d7d3c8db",
   "metadata": {
    "ExecuteTime": {
     "end_time": "2021-07-15T11:54:31.802490Z",
     "start_time": "2021-07-15T11:54:31.786491Z"
    },
    "executionInfo": {
     "elapsed": 412,
     "status": "ok",
     "timestamp": 1626419604376,
     "user": {
      "displayName": "박재완",
      "photoUrl": "",
      "userId": "18327523315282194311"
     },
     "user_tz": -540
    },
    "id": "d7d3c8db"
   },
   "outputs": [],
   "source": [
    "columns = ['총세대수', '지역', '전용면적별세대수', '공가수', '지하철', '버스', '단지내주차면수']\n",
    "target = '등록차량수'\n",
    "area_columns = []\n",
    "for area in train['전용면적'].unique():\n",
    "    area_columns.append(f'면적_{area}')"
   ]
  },
  {
   "cell_type": "code",
   "execution_count": 30,
   "id": "1d6a9bbf",
   "metadata": {
    "ExecuteTime": {
     "end_time": "2021-07-15T11:46:38.560945Z",
     "start_time": "2021-07-15T11:46:38.544943Z"
    },
    "executionInfo": {
     "elapsed": 2,
     "status": "ok",
     "timestamp": 1626419604793,
     "user": {
      "displayName": "박재완",
      "photoUrl": "",
      "userId": "18327523315282194311"
     },
     "user_tz": -540
    },
    "id": "1d6a9bbf"
   },
   "outputs": [],
   "source": [
    "new_train = pd.DataFrame()\n",
    "new_test = pd.DataFrame()"
   ]
  },
  {
   "cell_type": "code",
   "execution_count": 31,
   "id": "EM7sVhheGyXJ",
   "metadata": {
    "executionInfo": {
     "elapsed": 2,
     "status": "ok",
     "timestamp": 1626419605311,
     "user": {
      "displayName": "박재완",
      "photoUrl": "",
      "userId": "18327523315282194311"
     },
     "user_tz": -540
    },
    "id": "EM7sVhheGyXJ"
   },
   "outputs": [],
   "source": [
    "new_train['임대보증금'] = 0\n",
    "new_train['임대료'] = 0\n",
    "new_test['임대보증금'] = 0\n",
    "new_test['임대료'] = 0"
   ]
  },
  {
   "cell_type": "markdown",
   "id": "t_MyqJ24G5dp",
   "metadata": {
    "id": "t_MyqJ24G5dp"
   },
   "source": [
    "## 수정한 코드"
   ]
  },
  {
   "cell_type": "code",
   "execution_count": 32,
   "id": "FwCH0aL1G74e",
   "metadata": {
    "colab": {
     "base_uri": "https://localhost:8080/"
    },
    "executionInfo": {
     "elapsed": 17110,
     "status": "ok",
     "timestamp": 1626419631425,
     "user": {
      "displayName": "박재완",
      "photoUrl": "",
      "userId": "18327523315282194311"
     },
     "user_tz": -540
    },
    "id": "FwCH0aL1G74e",
    "outputId": "e63df926-4ebe-4fb3-91bf-9715cff73de7"
   },
   "outputs": [
    {
     "name": "stderr",
     "output_type": "stream",
     "text": [
      "423it [00:07, 59.14it/s]\n",
      "150it [00:02, 60.81it/s]\n"
     ]
    }
   ],
   "source": [
    "# Train Dataframe Set\n",
    "# 미사용 열s - 임대건물구분, 공급유형, 자격유형 임대보증금, 임대료\n",
    "for i, code in tqdm(enumerate(train['단지코드'].unique())):\n",
    "    temp = train[train['단지코드']==code]\n",
    "    temp.index = range(temp.shape[0]) # index 재설정\n",
    "    for col in columns:\n",
    "        new_train.loc[i, col] = temp.loc[0, col] # Fixed Data\n",
    "    \n",
    "    deposit_cost = []\n",
    "    rental_cost = []\n",
    "\n",
    "    for col in area_columns:\n",
    "        area = float(col.split('_')[-1]) # 면적의 숫자를 float형으로 저장\n",
    "        # '면적_10' 등의 열을 만들고 - 같은 전용면적들 끼리 전용면적별세대수의 합을 Value로 Cell에 입력\n",
    "        new_train.loc[i, col] = temp[temp['전용면적']==area]['전용면적별세대수'].sum()\n",
    "        \n",
    "        try:\n",
    "          deposit_cost.append(temp[temp['전용면적']==area]['임대보증금'][0])\n",
    "          rental_cost.append(temp[temp['전용면적']==area]['임대료'][0])\n",
    "        except KeyError as e:\n",
    "          continue\n",
    "    \n",
    "    new_train.loc[i, '등록차량수'] = temp.loc[0, '등록차량수']\n",
    "    # print(type(deposit_cost[0]))\n",
    "    new_train.loc[i, '임대보증금'] = int(np.mean(deposit_cost))\n",
    "    new_train.loc[i, '임대료'] = int(np.mean(rental_cost))\n",
    "\n",
    "# Test DataFrame Set\n",
    "# 미사용 열s - 임대건물구분, 공급유형, 자격유형 임대보증금, 임대료, 등록차량수\n",
    "for i, code in tqdm(enumerate(test['단지코드'].unique())):\n",
    "    temp = test[test['단지코드']==code]\n",
    "    temp.index = range(temp.shape[0])\n",
    "    for col in columns:\n",
    "        new_test.loc[i, col] = temp.loc[0, col]\n",
    "\n",
    "    deposit_cost = []\n",
    "    rental_cost = []\n",
    "    \n",
    "    for col in area_columns:\n",
    "        area = float(col.split('_')[-1])\n",
    "        new_test.loc[i, col] = temp[temp['전용면적']==area]['전용면적별세대수'].sum()\n",
    "        \n",
    "        try:\n",
    "          deposit_cost.append(temp[temp['전용면적']==area]['임대보증금'][0])\n",
    "          rental_cost.append(temp[temp['전용면적']==area]['임대료'][0])\n",
    "        except KeyError as e:\n",
    "          continue\n",
    "          \n",
    "    new_test.loc[i, '임대보증금'] = int(np.mean(deposit_cost))\n",
    "    new_test.loc[i, '임대료'] = int(np.mean(rental_cost))\n",
    "\n",
    "\n",
    "# 추가해볼 것 임대보증금 , 임대료 Column 만들고 평균"
   ]
  },
  {
   "cell_type": "code",
   "execution_count": 57,
   "id": "1ecf366d",
   "metadata": {
    "id": "1ecf366d"
   },
   "outputs": [],
   "source": [
    "x_train = new_train.iloc[:, :-1]\n",
    "y_train = new_train.iloc[:,-1]\n",
    "x_test = new_test"
   ]
  },
  {
   "cell_type": "code",
   "execution_count": 50,
   "id": "1eca88c9",
   "metadata": {},
   "outputs": [
    {
     "data": {
      "text/plain": [
       "RandomForestRegressor(n_jobs=-1, random_state=42)"
      ]
     },
     "execution_count": 50,
     "metadata": {},
     "output_type": "execute_result"
    }
   ],
   "source": [
    "forest = RandomForestRegressor(n_jobs=-1, random_state=42)\n",
    "forest.fit(x_train, y_train)"
   ]
  },
  {
   "cell_type": "code",
   "execution_count": 73,
   "id": "67f28227",
   "metadata": {
    "id": "67f28227"
   },
   "outputs": [],
   "source": [
    "pred = lgb.predict(x_test)\n",
    "#pred"
   ]
  },
  {
   "cell_type": "code",
   "execution_count": 74,
   "id": "f5ce95c9",
   "metadata": {
    "id": "f5ce95c9"
   },
   "outputs": [],
   "source": [
    "submission['num'] = pred"
   ]
  },
  {
   "cell_type": "code",
   "execution_count": 75,
   "id": "4c1491a5",
   "metadata": {
    "id": "4c1491a5"
   },
   "outputs": [],
   "source": [
    "submission.to_csv('0717.csv', index=False)"
   ]
  },
  {
   "cell_type": "code",
   "execution_count": 86,
   "id": "539d8054",
   "metadata": {},
   "outputs": [
    {
     "data": {
      "text/plain": [
       "130.2770754716981"
      ]
     },
     "execution_count": 86,
     "metadata": {},
     "output_type": "execute_result"
    }
   ],
   "source": [
    "from sklearn.model_selection import train_test_split\n",
    "from sklearn.metrics import mean_absolute_error\n",
    "\n",
    "x = new_train.iloc[:, :-1]\n",
    "y = new_train.iloc[:,-1]\n",
    "\n",
    "x_train, x_test, y_train, y_test = train_test_split(x,y,random_state=0)\n",
    "\n",
    "forest = RandomForestRegressor(random_state=0)\n",
    "forest.fit(x_train, y_train)\n",
    "\n",
    "pred = forest.predict(x_test)\n",
    "mean_absolute_error(y_test, pred)"
   ]
  }
 ],
 "metadata": {
  "colab": {
   "collapsed_sections": [],
   "name": "Lastest_주차 수요 예측(제출).ipynb",
   "provenance": []
  },
  "kernelspec": {
   "display_name": "Python 3",
   "language": "python",
   "name": "python3"
  },
  "language_info": {
   "codemirror_mode": {
    "name": "ipython",
    "version": 3
   },
   "file_extension": ".py",
   "mimetype": "text/x-python",
   "name": "python",
   "nbconvert_exporter": "python",
   "pygments_lexer": "ipython3",
   "version": "3.8.8"
  },
  "toc": {
   "base_numbering": 1,
   "nav_menu": {},
   "number_sections": true,
   "sideBar": true,
   "skip_h1_title": false,
   "title_cell": "Table of Contents",
   "title_sidebar": "Contents",
   "toc_cell": false,
   "toc_position": {},
   "toc_section_display": true,
   "toc_window_display": false
  },
  "varInspector": {
   "cols": {
    "lenName": 16,
    "lenType": 16,
    "lenVar": 40
   },
   "kernels_config": {
    "python": {
     "delete_cmd_postfix": "",
     "delete_cmd_prefix": "del ",
     "library": "var_list.py",
     "varRefreshCmd": "print(var_dic_list())"
    },
    "r": {
     "delete_cmd_postfix": ") ",
     "delete_cmd_prefix": "rm(",
     "library": "var_list.r",
     "varRefreshCmd": "cat(var_dic_list()) "
    }
   },
   "types_to_exclude": [
    "module",
    "function",
    "builtin_function_or_method",
    "instance",
    "_Feature"
   ],
   "window_display": false
  }
 },
 "nbformat": 4,
 "nbformat_minor": 5
}
